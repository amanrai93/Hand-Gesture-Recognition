{
  "cells": [
    {
      "cell_type": "code",
      "execution_count": 14,
      "metadata": {
        "id": "85IcTaHjz9Ig"
      },
      "outputs": [],
      "source": [
        "import numpy as np\n",
        "import os\n",
        "import scipy.misc\n",
        "import datetime\n",
        "import os\n",
        "import imageio\n",
        "from skimage.transform import resize\n",
        "from imageio import imread\n",
        "from PIL import Image\n",
        "import pathlib\n",
        "import tensorflow as tf\n",
        "import matplotlib.pyplot as plt\n",
        "import numpy as np\n",
        "import pandas as pd\n",
        "import os\n",
        "import PIL\n",
        "from tensorflow import keras\n",
        "from tensorflow.keras import layers\n",
        "from tensorflow.keras.models import Sequential"
      ]
    },
    {
      "cell_type": "code",
      "execution_count": 15,
      "metadata": {
        "id": "ToDh4oOW1x3a"
      },
      "outputs": [],
      "source": [
        "import abc\n",
        "from sys import getsizeof"
      ]
    },
    {
      "cell_type": "code",
      "execution_count": 16,
      "metadata": {
        "colab": {
          "base_uri": "https://localhost:8080/"
        },
        "id": "SSQCjh2j0Lf2",
        "outputId": "43bb2694-4131-4037-8079-f79ab3807069"
      },
      "outputs": [
        {
          "output_type": "stream",
          "name": "stdout",
          "text": [
            "Mounted at /content/gdrive\n"
          ]
        }
      ],
      "source": [
        "## If you are using the data by mounting the google drive, use the following :\n",
        "from google.colab import drive\n",
        "drive.mount('/content/gdrive',force_remount=True)"
      ]
    },
    {
      "cell_type": "code",
      "execution_count": 17,
      "metadata": {
        "id": "8lZzLjXv0LiY"
      },
      "outputs": [],
      "source": [
        "np.random.seed(30)\n",
        "import random as rn\n",
        "rn.seed(30)\n",
        "import tensorflow as tf\n",
        "tf.random.set_seed(30)"
      ]
    },
    {
      "cell_type": "code",
      "execution_count": 18,
      "metadata": {
        "id": "1NjIYv8c0LlL"
      },
      "outputs": [],
      "source": [
        "import cv2\n",
        "import matplotlib.pyplot as plt\n",
        "% matplotlib inline"
      ]
    },
    {
      "cell_type": "code",
      "execution_count": null,
      "metadata": {
        "id": "mq576uGb0Ln4"
      },
      "outputs": [],
      "source": [
        "# importing some other libraries which will be needed for model building.\n",
        "\n",
        "from keras.models import Sequential, Model\n",
        "from keras.layers import Dense, GRU, Flatten, TimeDistributed, Flatten, BatchNormalization, Activation\n",
        "from keras.layers.convolutional import Conv3D, MaxPooling3D, Conv2D, MaxPooling2D\n",
        "from keras.layers.recurrent import LSTM\n",
        "from keras.callbacks import ModelCheckpoint, ReduceLROnPlateau, EarlyStopping\n",
        "from keras import optimizers\n",
        "from keras.layers import Dropout\n",
        "from tensorflow.keras.optimizers import Adam"
      ]
    },
    {
      "cell_type": "code",
      "execution_count": null,
      "metadata": {
        "id": "VDh4JuIl0LrI"
      },
      "outputs": [],
      "source": [
        "batch_size = 50"
      ]
    },
    {
      "cell_type": "code",
      "execution_count": 19,
      "metadata": {
        "id": "qQUQa4At0Lth"
      },
      "outputs": [],
      "source": [
        "project_folder='/content/gdrive/MyDrive/Project_data'"
      ]
    },
    {
      "cell_type": "code",
      "execution_count": 20,
      "metadata": {
        "id": "UisFxkrt0LwD"
      },
      "outputs": [],
      "source": [
        "# function to plot the training/validation accuracies/losses.\n",
        "\n",
        "def plot(history):\n",
        "    fig, axes = plt.subplots(nrows=1, ncols=2, figsize=(15,4))\n",
        "    axes[0].plot(history.history['loss'])   \n",
        "    axes[0].plot(history.history['val_loss'])\n",
        "    axes[0].legend(['loss','val_loss'])\n",
        "\n",
        "    axes[1].plot(history.history['categorical_accuracy'])   \n",
        "    axes[1].plot(history.history['val_categorical_accuracy'])\n",
        "    axes[1].legend(['categorical_accuracy','val_categorical_accuracy'])"
      ]
    },
    {
      "cell_type": "markdown",
      "metadata": {
        "id": "cCSgyhoz1Z7F"
      },
      "source": [
        "# GENERATOR"
      ]
    },
    {
      "cell_type": "code",
      "execution_count": 21,
      "metadata": {
        "id": "dQuki69Q0Ly1"
      },
      "outputs": [],
      "source": [
        "class ModelBuilder(metaclass= abc.ABCMeta):\n",
        "    # initialisng the path where project data resides\n",
        "    def initialize_path(self,project_folder):\n",
        "        self.train_doc = np.random.permutation(open(project_folder + '/' + 'train.csv').readlines())\n",
        "        self.val_doc = np.random.permutation(open(project_folder + '/' + 'val.csv').readlines())\n",
        "        self.train_path = project_folder + '/' + 'train'\n",
        "        self.val_path =  project_folder + '/' + 'val'\n",
        "        self.num_train_sequences = len(self.train_doc)\n",
        "        self.num_val_sequences = len(self.val_doc)\n",
        "    # initialising the image properties    \n",
        "    def initialize_image_properties(self,image_height=100,image_width=100):\n",
        "        self.image_height=image_height\n",
        "        self.image_width=image_width\n",
        "        self.channels=3\n",
        "        self.num_classes=5\n",
        "        self.total_frames=30\n",
        "    # initialising the batch size, frames to sample and the no. of epochs\n",
        "    def initialize_hyperparams(self,frames_to_sample=30,batch_size=20,num_epochs=20):\n",
        "        self.frames_to_sample=frames_to_sample\n",
        "        self.batch_size=batch_size\n",
        "        self.num_epochs=num_epochs\n",
        "        \n",
        "    # MOST IMPORTANT PART HERE - The generator function        \n",
        "    def generator(self,source_path, folder_list, augment=False):\n",
        "        img_idx = np.round(np.linspace(0,self.total_frames-1,self.frames_to_sample)).astype(int)\n",
        "        batch_size=self.batch_size\n",
        "        while True:\n",
        "            t = np.random.permutation(folder_list)\n",
        "            num_batches = len(t)//batch_size\n",
        "        \n",
        "            for batch in range(num_batches): \n",
        "                batch_data, batch_labels= self.one_batch_data(source_path,t,batch,batch_size,img_idx,augment)\n",
        "                yield batch_data, batch_labels \n",
        "\n",
        "            remaining_seq=len(t)%batch_size\n",
        "        \n",
        "            if (remaining_seq != 0):\n",
        "                batch_data, batch_labels= self.one_batch_data(source_path,t,num_batches,batch_size,img_idx,augment,remaining_seq)\n",
        "                yield batch_data, batch_labels \n",
        "    \n",
        "    \n",
        "    def one_batch_data(self,source_path,t,batch,batch_size,img_idx,augment,remaining_seq=0):\n",
        "    \n",
        "        seq_len = remaining_seq if remaining_seq else batch_size\n",
        "    \n",
        "        batch_data = np.zeros((seq_len,len(img_idx),self.image_height,self.image_width,self.channels)) \n",
        "        batch_labels = np.zeros((seq_len,self.num_classes)) \n",
        "    \n",
        "        if (augment): batch_data_aug = np.zeros((seq_len,len(img_idx),self.image_height,self.image_width,self.channels))\n",
        "\n",
        "        \n",
        "        for folder in range(seq_len): \n",
        "            imgs = os.listdir(source_path+'/'+ t[folder + (batch*batch_size)].split(';')[0]) \n",
        "            for idx,item in enumerate(img_idx):\n",
        "                #performing image reading and resizing\n",
        "                image = imread(source_path+'/'+ t[folder + (batch*batch_size)].strip().split(';')[0]+'/'+imgs[item]).astype(np.float32)\n",
        "                image_resized=resize(image,(self.image_height,self.image_width,3))\n",
        "            \n",
        "                #normalizing the images\n",
        "                batch_data[folder,idx,:,:,0] = (image_resized[:,:,0])/255\n",
        "                batch_data[folder,idx,:,:,1] = (image_resized[:,:,1])/255\n",
        "                batch_data[folder,idx,:,:,2] = (image_resized[:,:,2])/255\n",
        "            \n",
        "                if (augment):\n",
        "                    shifted = cv2.warpAffine(image, \n",
        "                                             np.float32([[1, 0, np.random.randint(-30,30)],[0, 1, np.random.randint(-30,30)]]), \n",
        "                                            (image.shape[1], image.shape[0]))\n",
        "                    \n",
        "                    gray = cv2.cvtColor(shifted,cv2.COLOR_BGR2GRAY)\n",
        "\n",
        "                    x0, y0 = np.argwhere(gray > 0).min(axis=0)\n",
        "                    x1, y1 = np.argwhere(gray > 0).max(axis=0) \n",
        "                    # cropping the images to have the targeted gestures and remove the noise from the images.\n",
        "                    cropped=shifted[x0:x1,y0:y1,:]\n",
        "                    \n",
        "                    image_resized=resize(cropped,(self.image_height,self.image_width,3))\n",
        "                    \n",
        "                    #shifted = cv2.warpAffine(image_resized, \n",
        "                    #                        np.float32([[1, 0, np.random.randint(-3,3)],[0, 1, np.random.randint(-3,3)]]), \n",
        "                    #                        (image_resized.shape[1], image_resized.shape[0]))\n",
        "            \n",
        "                    batch_data_aug[folder,idx,:,:,0] = (image_resized[:,:,0])/255\n",
        "                    batch_data_aug[folder,idx,:,:,1] = (image_resized[:,:,1])/255\n",
        "                    batch_data_aug[folder,idx,:,:,2] = (image_resized[:,:,2])/255\n",
        "                \n",
        "            \n",
        "            batch_labels[folder, int(t[folder + (batch*batch_size)].strip().split(';')[2])] = 1\n",
        "            \n",
        "    \n",
        "        if (augment):\n",
        "            batch_data=np.concatenate([batch_data,batch_data_aug])\n",
        "            batch_labels=np.concatenate([batch_labels,batch_labels])\n",
        "\n",
        "        \n",
        "        return(batch_data,batch_labels)\n",
        "    \n",
        "    \n",
        "    def train_model(self, model, augment_data=False):\n",
        "        train_generator = self.generator(self.train_path, self.train_doc,augment=augment_data)\n",
        "        val_generator = self.generator(self.val_path, self.val_doc)\n",
        "\n",
        "        model_name = 'model_init' + '_' + str(datetime.datetime.now()).replace(' ','').replace(':','_') + '/'\n",
        "    \n",
        "        if not os.path.exists(model_name):\n",
        "            os.mkdir(model_name)\n",
        "        \n",
        "        filepath = model_name + 'model-{epoch:05d}-{loss:.5f}-{categorical_accuracy:.5f}-{val_loss:.5f}-{val_categorical_accuracy:.5f}.h5'\n",
        "\n",
        "        checkpoint = ModelCheckpoint(filepath, monitor='val_loss', verbose=1, save_best_only=True, save_weights_only=False, mode='auto', period=1)\n",
        "        LR = ReduceLROnPlateau(monitor='val_loss', factor=0.2, verbose=1, patience=4)\n",
        "        \n",
        "        earlystop = EarlyStopping( monitor=\"val_loss\", min_delta=0,patience=10,verbose=1)\n",
        "        callbacks_list = [checkpoint, LR, earlystop]\n",
        "\n",
        "        if (self.num_train_sequences%self.batch_size) == 0:\n",
        "            steps_per_epoch = int(self.num_train_sequences/self.batch_size)\n",
        "        else:\n",
        "            steps_per_epoch = (self.num_train_sequences//self.batch_size) + 1\n",
        "\n",
        "        if (self.num_val_sequences%self.batch_size) == 0:\n",
        "            validation_steps = int(self.num_val_sequences/self.batch_size)\n",
        "        else:\n",
        "            validation_steps = (self.num_val_sequences//self.batch_size) + 1\n",
        "    \n",
        "        history=model.fit_generator(train_generator, steps_per_epoch=steps_per_epoch, epochs=self.num_epochs, verbose=1, \n",
        "                            callbacks=callbacks_list, validation_data=val_generator, \n",
        "                            validation_steps=validation_steps, class_weight=None, workers=1, initial_epoch=0)\n",
        "        return history\n",
        "\n",
        "        \n",
        "    @abc.abstractmethod\n",
        "    def define_model(self):\n",
        "        pass"
      ]
    },
    {
      "cell_type": "markdown",
      "metadata": {
        "id": "E2noqr5N115L"
      },
      "source": [
        "## MODEL"
      ]
    },
    {
      "cell_type": "code",
      "execution_count": 22,
      "metadata": {
        "id": "2ox3dNGq0L1r"
      },
      "outputs": [],
      "source": [
        "class ModelConv3D1(ModelBuilder):\n",
        "    \n",
        "    def define_model(self):\n",
        "\n",
        "        model = Sequential()\n",
        "        model.add(Conv3D(16, (3, 3, 3), padding='same',\n",
        "                 input_shape=(self.frames_to_sample,self.image_height,self.image_width,self.channels)))\n",
        "        model.add(Activation('relu'))\n",
        "        model.add(BatchNormalization())\n",
        "        model.add(MaxPooling3D(pool_size=(2, 2, 2)))\n",
        "\n",
        "        model.add(Conv3D(32, (2, 2, 2), padding='same'))\n",
        "        model.add(Activation('relu'))\n",
        "        model.add(BatchNormalization())\n",
        "        model.add(MaxPooling3D(pool_size=(2, 2, 2)))\n",
        "\n",
        "        model.add(Conv3D(64, (2, 2, 2), padding='same'))\n",
        "        model.add(Activation('relu'))\n",
        "        model.add(BatchNormalization())\n",
        "        model.add(MaxPooling3D(pool_size=(2, 2, 2)))\n",
        "\n",
        "        model.add(Conv3D(128, (2, 2, 2), padding='same'))\n",
        "        model.add(Activation('relu'))\n",
        "        model.add(BatchNormalization())\n",
        "        model.add(MaxPooling3D(pool_size=(2, 2, 2)))\n",
        "\n",
        "        model.add(Flatten())\n",
        "        model.add(Dense(128,activation='relu'))\n",
        "        model.add(BatchNormalization())\n",
        "        model.add(Dropout(0.5))\n",
        "\n",
        "        model.add(Dense(64,activation='relu'))\n",
        "        model.add(BatchNormalization())\n",
        "        model.add(Dropout(0.25))\n",
        "\n",
        "\n",
        "        model.add(Dense(self.num_classes,activation='softmax'))\n",
        "\n",
        "        optimiser = Adam()\n",
        "        #optimiser = 'sgd'\n",
        "        model.compile(optimizer=optimiser, loss='categorical_crossentropy', metrics=['categorical_accuracy'])\n",
        "        return model"
      ]
    },
    {
      "cell_type": "code",
      "execution_count": 23,
      "metadata": {
        "colab": {
          "base_uri": "https://localhost:8080/"
        },
        "id": "I-baFYU40L4r",
        "outputId": "72531621-9a07-430d-f540-7ebf21d8779b"
      },
      "outputs": [
        {
          "output_type": "stream",
          "name": "stdout",
          "text": [
            "Model: \"sequential_1\"\n",
            "_________________________________________________________________\n",
            " Layer (type)                Output Shape              Param #   \n",
            "=================================================================\n",
            " conv3d_4 (Conv3D)           (None, 30, 160, 160, 16)  1312      \n",
            "                                                                 \n",
            " activation_4 (Activation)   (None, 30, 160, 160, 16)  0         \n",
            "                                                                 \n",
            " batch_normalization_6 (Batc  (None, 30, 160, 160, 16)  64       \n",
            " hNormalization)                                                 \n",
            "                                                                 \n",
            " max_pooling3d_4 (MaxPooling  (None, 15, 80, 80, 16)   0         \n",
            " 3D)                                                             \n",
            "                                                                 \n",
            " conv3d_5 (Conv3D)           (None, 15, 80, 80, 32)    4128      \n",
            "                                                                 \n",
            " activation_5 (Activation)   (None, 15, 80, 80, 32)    0         \n",
            "                                                                 \n",
            " batch_normalization_7 (Batc  (None, 15, 80, 80, 32)   128       \n",
            " hNormalization)                                                 \n",
            "                                                                 \n",
            " max_pooling3d_5 (MaxPooling  (None, 7, 40, 40, 32)    0         \n",
            " 3D)                                                             \n",
            "                                                                 \n",
            " conv3d_6 (Conv3D)           (None, 7, 40, 40, 64)     16448     \n",
            "                                                                 \n",
            " activation_6 (Activation)   (None, 7, 40, 40, 64)     0         \n",
            "                                                                 \n",
            " batch_normalization_8 (Batc  (None, 7, 40, 40, 64)    256       \n",
            " hNormalization)                                                 \n",
            "                                                                 \n",
            " max_pooling3d_6 (MaxPooling  (None, 3, 20, 20, 64)    0         \n",
            " 3D)                                                             \n",
            "                                                                 \n",
            " conv3d_7 (Conv3D)           (None, 3, 20, 20, 128)    65664     \n",
            "                                                                 \n",
            " activation_7 (Activation)   (None, 3, 20, 20, 128)    0         \n",
            "                                                                 \n",
            " batch_normalization_9 (Batc  (None, 3, 20, 20, 128)   512       \n",
            " hNormalization)                                                 \n",
            "                                                                 \n",
            " max_pooling3d_7 (MaxPooling  (None, 1, 10, 10, 128)   0         \n",
            " 3D)                                                             \n",
            "                                                                 \n",
            " flatten_1 (Flatten)         (None, 12800)             0         \n",
            "                                                                 \n",
            " dense_3 (Dense)             (None, 128)               1638528   \n",
            "                                                                 \n",
            " batch_normalization_10 (Bat  (None, 128)              512       \n",
            " chNormalization)                                                \n",
            "                                                                 \n",
            " dropout_2 (Dropout)         (None, 128)               0         \n",
            "                                                                 \n",
            " dense_4 (Dense)             (None, 64)                8256      \n",
            "                                                                 \n",
            " batch_normalization_11 (Bat  (None, 64)               256       \n",
            " chNormalization)                                                \n",
            "                                                                 \n",
            " dropout_3 (Dropout)         (None, 64)                0         \n",
            "                                                                 \n",
            " dense_5 (Dense)             (None, 5)                 325       \n",
            "                                                                 \n",
            "=================================================================\n",
            "Total params: 1,736,389\n",
            "Trainable params: 1,735,525\n",
            "Non-trainable params: 864\n",
            "_________________________________________________________________\n"
          ]
        }
      ],
      "source": [
        "conv_3d1=ModelConv3D1()\n",
        "conv_3d1.initialize_path(project_folder)\n",
        "conv_3d1.initialize_image_properties(image_height=160,image_width=160)\n",
        "conv_3d1.initialize_hyperparams(frames_to_sample=30,batch_size=10,num_epochs=1)\n",
        "conv_3d1_model=conv_3d1.define_model()\n",
        "conv_3d1_model.summary()"
      ]
    },
    {
      "cell_type": "markdown",
      "metadata": {
        "id": "eBECID-t2z69"
      },
      "source": [
        "### *Sample cropping*"
      ]
    },
    {
      "cell_type": "code",
      "execution_count": 24,
      "metadata": {
        "colab": {
          "base_uri": "https://localhost:8080/",
          "height": 221
        },
        "id": "wWNfONR20L7s",
        "outputId": "ac29ce97-507d-4ec5-e780-91c98ef98372"
      },
      "outputs": [
        {
          "output_type": "execute_result",
          "data": {
            "text/plain": [
              "<matplotlib.image.AxesImage at 0x7f5be82de650>"
            ]
          },
          "metadata": {},
          "execution_count": 24
        },
        {
          "output_type": "display_data",
          "data": {
            "text/plain": [
              "<Figure size 432x288 with 2 Axes>"
            ],
            "image/png": "[encoded data removed]"
          },
          "metadata": {
            "needs_background": "light"
          }
        }
      ],
      "source": [
        "test_generator=ModelConv3D1()\n",
        "test_generator.initialize_path(project_folder)\n",
        "test_generator.initialize_image_properties(image_height=160,image_width=160)\n",
        "test_generator.initialize_hyperparams(frames_to_sample=30,batch_size=3,num_epochs=1)\n",
        "\n",
        "g=test_generator.generator(test_generator.val_path,test_generator.val_doc,augment=True)\n",
        "batch_data, batch_labels=next(g)\n",
        "fig, axes = plt.subplots(nrows=1, ncols=2)\n",
        "axes[0].imshow(batch_data[0,15,:,:,:])\n",
        "axes[1].imshow(batch_data[3,15,:,:,:]) "
      ]
    },
    {
      "cell_type": "code",
      "execution_count": 25,
      "metadata": {
        "colab": {
          "base_uri": "https://localhost:8080/"
        },
        "id": "W70XBc0M0L-i",
        "outputId": "1acfa8b4-7ee8-4062-b828-b81db899acee"
      },
      "outputs": [
        {
          "output_type": "stream",
          "name": "stdout",
          "text": [
            "Memory util is 3.6621095314621925 Gigs\n"
          ]
        }
      ],
      "source": [
        "print(\"Memory util is {} Gigs\". format(getsizeof(np.zeros((40,16,30,160,160)))/(1024*1024*1024)))"
      ]
    },
    {
      "cell_type": "markdown",
      "metadata": {
        "id": "RmDOPwqI3stL"
      },
      "source": [
        "So lets trade-off between these parameters\n",
        "Below are the experiments to see how training time is affected by image resolution, number of images in sequence and batch size"
      ]
    },
    {
      "cell_type": "code",
      "execution_count": null,
      "metadata": {
        "colab": {
          "base_uri": "https://localhost:8080/"
        },
        "id": "VUYeAUuo0MBm",
        "outputId": "64e89650-1af0-48ca-98ca-6a4d15b5a11e"
      },
      "outputs": [
        {
          "name": "stdout",
          "output_type": "stream",
          "text": [
            "Total Params: 687813\n",
            "WARNING:tensorflow:`period` argument is deprecated. Please use `save_freq` to specify the frequency in number of batches seen.\n"
          ]
        },
        {
          "name": "stderr",
          "output_type": "stream",
          "text": [
            "/usr/local/lib/python3.7/dist-packages/ipykernel_launcher.py:127: UserWarning: `Model.fit_generator` is deprecated and will be removed in a future version. Please use `Model.fit`, which supports generators.\n"
          ]
        },
        {
          "name": "stdout",
          "output_type": "stream",
          "text": [
            "Epoch 1/2\n",
            "34/34 [==============================] - ETA: 0s - loss: 1.6515 - categorical_accuracy: 0.4268  \n",
            "Epoch 1: val_loss improved from inf to 2.57260, saving model to model_init_2022-05-0804_19_25.571716/model-00001-1.65150-0.42685-2.57260-0.16000.h5\n",
            "34/34 [==============================] - 7112s 215s/step - loss: 1.6515 - categorical_accuracy: 0.4268 - val_loss: 2.5726 - val_categorical_accuracy: 0.1600 - lr: 0.0010\n",
            "Epoch 2/2\n",
            "34/34 [==============================] - ETA: 0s - loss: 1.1509 - categorical_accuracy: 0.5535\n",
            "Epoch 2: val_loss did not improve from 2.57260\n",
            "34/34 [==============================] - 241s 7s/step - loss: 1.1509 - categorical_accuracy: 0.5535 - val_loss: 3.9280 - val_categorical_accuracy: 0.1300 - lr: 0.0010\n"
          ]
        },
        {
          "data": {
            "text/plain": [
              "<keras.callbacks.History at 0x7f1e04b9cc50>"
            ]
          },
          "execution_count": 29,
          "metadata": {},
          "output_type": "execute_result"
        }
      ],
      "source": [
        "conv_3d1=ModelConv3D1()\n",
        "conv_3d1.initialize_path(project_folder)\n",
        "conv_3d1.initialize_image_properties(image_height=100,image_width=100)\n",
        "conv_3d1.initialize_hyperparams(frames_to_sample=30,batch_size=20,num_epochs=2)\n",
        "conv_3d1_model=conv_3d1.define_model()\n",
        "print(\"Total Params:\", conv_3d1_model.count_params())\n",
        "conv_3d1.train_model(conv_3d1_model)"
      ]
    },
    {
      "cell_type": "code",
      "execution_count": null,
      "metadata": {
        "id": "BgIYxH2Y0MEk"
      },
      "outputs": [],
      "source": [
        "conv_3d1=ModelConv3D1()\n",
        "conv_3d1.initialize_path(project_folder)\n",
        "conv_3d1.initialize_image_properties(image_height=160,image_width=160)\n",
        "conv_3d1.initialize_hyperparams(frames_to_sample=30,batch_size=15,num_epochs=2)\n",
        "conv_3d1_model=conv_3d1.define_model()\n",
        "print(\"Total Params:\", conv_3d1_model.count_params())\n",
        "conv_3d1.train_model(conv_3d1_model)"
      ]
    },
    {
      "cell_type": "code",
      "execution_count": null,
      "metadata": {
        "id": "ubWKo5D50MHc"
      },
      "outputs": [],
      "source": [
        "conv_3d1=ModelConv3D1()\n",
        "conv_3d1.initialize_path(project_folder)\n",
        "conv_3d1.initialize_image_properties(image_height=160,image_width=160)\n",
        "conv_3d1.initialize_hyperparams(frames_to_sample=16,batch_size=30,num_epochs=2)\n",
        "conv_3d1_model=conv_3d1.define_model()\n",
        "print(\"Total Params:\", conv_3d1_model.count_params())\n",
        "conv_3d1.train_model(conv_3d1_model)"
      ]
    },
    {
      "cell_type": "markdown",
      "metadata": {
        "id": "9LVrviAYhPke"
      },
      "source": [
        "## MODEL 1"
      ]
    },
    {
      "cell_type": "code",
      "execution_count": null,
      "metadata": {
        "id": "rAzRum6h0MKk"
      },
      "outputs": [],
      "source": [
        "class ModelConv3D1(ModelBuilder):\n",
        "    \n",
        "    def define_model(self,filtersize=(3,3,3),dense_neurons=64,dropout=0.25):\n",
        "\n",
        "        model = Sequential()\n",
        "        model.add(Conv3D(16, filtersize, padding='same',\n",
        "                 input_shape=(self.frames_to_sample,self.image_height,self.image_width,self.channels)))\n",
        "        model.add(Activation('relu'))\n",
        "        model.add(BatchNormalization())\n",
        "        model.add(MaxPooling3D(pool_size=(2, 2, 2)))\n",
        "\n",
        "        model.add(Conv3D(32, filtersize, padding='same'))\n",
        "        model.add(Activation('relu'))\n",
        "        model.add(BatchNormalization())\n",
        "        model.add(MaxPooling3D(pool_size=(2, 2, 2)))\n",
        "\n",
        "        model.add(Conv3D(64, filtersize, padding='same'))\n",
        "        model.add(Activation('relu'))\n",
        "        model.add(BatchNormalization())\n",
        "        model.add(MaxPooling3D(pool_size=(2, 2, 2)))\n",
        "\n",
        "        model.add(Conv3D(128, filtersize, padding='same'))\n",
        "        model.add(Activation('relu'))\n",
        "        model.add(BatchNormalization())\n",
        "        model.add(MaxPooling3D(pool_size=(2, 2, 2)))\n",
        "\n",
        "        model.add(Flatten())\n",
        "        model.add(Dense(dense_neurons,activation='relu'))\n",
        "        model.add(BatchNormalization())\n",
        "        model.add(Dropout(dropout))\n",
        "\n",
        "        model.add(Dense(dense_neurons,activation='relu'))\n",
        "        model.add(BatchNormalization())\n",
        "        model.add(Dropout(dropout))\n",
        "\n",
        "\n",
        "        model.add(Dense(self.num_classes,activation='softmax'))\n",
        "\n",
        "        optimiser = Adam()\n",
        "        model.compile(optimizer=optimiser, loss='categorical_crossentropy', metrics=['categorical_accuracy'])\n",
        "        return model"
      ]
    },
    {
      "cell_type": "code",
      "execution_count": null,
      "metadata": {
        "colab": {
          "base_uri": "https://localhost:8080/"
        },
        "id": "TkNVsz1g0MNg",
        "outputId": "2c4c0144-b064-421f-a936-26e09798e3cd"
      },
      "outputs": [
        {
          "name": "stdout",
          "output_type": "stream",
          "text": [
            "Model: \"sequential_7\"\n",
            "_________________________________________________________________\n",
            " Layer (type)                Output Shape              Param #   \n",
            "=================================================================\n",
            " conv3d_28 (Conv3D)          (None, 20, 160, 160, 16)  1312      \n",
            "                                                                 \n",
            " activation_28 (Activation)  (None, 20, 160, 160, 16)  0         \n",
            "                                                                 \n",
            " batch_normalization_40 (Bat  (None, 20, 160, 160, 16)  64       \n",
            " chNormalization)                                                \n",
            "                                                                 \n",
            " max_pooling3d_28 (MaxPoolin  (None, 10, 80, 80, 16)   0         \n",
            " g3D)                                                            \n",
            "                                                                 \n",
            " conv3d_29 (Conv3D)          (None, 10, 80, 80, 32)    13856     \n",
            "                                                                 \n",
            " activation_29 (Activation)  (None, 10, 80, 80, 32)    0         \n",
            "                                                                 \n",
            " batch_normalization_41 (Bat  (None, 10, 80, 80, 32)   128       \n",
            " chNormalization)                                                \n",
            "                                                                 \n",
            " max_pooling3d_29 (MaxPoolin  (None, 5, 40, 40, 32)    0         \n",
            " g3D)                                                            \n",
            "                                                                 \n",
            " conv3d_30 (Conv3D)          (None, 5, 40, 40, 64)     55360     \n",
            "                                                                 \n",
            " activation_30 (Activation)  (None, 5, 40, 40, 64)     0         \n",
            "                                                                 \n",
            " batch_normalization_42 (Bat  (None, 5, 40, 40, 64)    256       \n",
            " chNormalization)                                                \n",
            "                                                                 \n",
            " max_pooling3d_30 (MaxPoolin  (None, 2, 20, 20, 64)    0         \n",
            " g3D)                                                            \n",
            "                                                                 \n",
            " conv3d_31 (Conv3D)          (None, 2, 20, 20, 128)    221312    \n",
            "                                                                 \n",
            " activation_31 (Activation)  (None, 2, 20, 20, 128)    0         \n",
            "                                                                 \n",
            " batch_normalization_43 (Bat  (None, 2, 20, 20, 128)   512       \n",
            " chNormalization)                                                \n",
            "                                                                 \n",
            " max_pooling3d_31 (MaxPoolin  (None, 1, 10, 10, 128)   0         \n",
            " g3D)                                                            \n",
            "                                                                 \n",
            " flatten_6 (Flatten)         (None, 12800)             0         \n",
            "                                                                 \n",
            " dense_18 (Dense)            (None, 64)                819264    \n",
            "                                                                 \n",
            " batch_normalization_44 (Bat  (None, 64)               256       \n",
            " chNormalization)                                                \n",
            "                                                                 \n",
            " dropout_12 (Dropout)        (None, 64)                0         \n",
            "                                                                 \n",
            " dense_19 (Dense)            (None, 64)                4160      \n",
            "                                                                 \n",
            " batch_normalization_45 (Bat  (None, 64)               256       \n",
            " chNormalization)                                                \n",
            "                                                                 \n",
            " dropout_13 (Dropout)        (None, 64)                0         \n",
            "                                                                 \n",
            " dense_20 (Dense)            (None, 5)                 325       \n",
            "                                                                 \n",
            "=================================================================\n",
            "Total params: 1,117,061\n",
            "Trainable params: 1,116,325\n",
            "Non-trainable params: 736\n",
            "_________________________________________________________________\n"
          ]
        }
      ],
      "source": [
        "conv_3d1=ModelConv3D1()\n",
        "conv_3d1.initialize_path(project_folder)\n",
        "conv_3d1.initialize_image_properties(image_height=160,image_width=160)\n",
        "conv_3d1.initialize_hyperparams(frames_to_sample=20,batch_size=40,num_epochs=15)\n",
        "conv_3d1_model=conv_3d1.define_model()\n",
        "conv_3d1_model.summary()"
      ]
    },
    {
      "cell_type": "code",
      "execution_count": null,
      "metadata": {
        "colab": {
          "base_uri": "https://localhost:8080/"
        },
        "id": "BKdAo9he0MQS",
        "outputId": "20ff34dc-ee34-4bbc-a10e-a17bafae8910"
      },
      "outputs": [
        {
          "name": "stdout",
          "output_type": "stream",
          "text": [
            "Total Params: 1117061\n",
            "WARNING:tensorflow:`period` argument is deprecated. Please use `save_freq` to specify the frequency in number of batches seen.\n"
          ]
        },
        {
          "name": "stderr",
          "output_type": "stream",
          "text": [
            "/usr/local/lib/python3.7/dist-packages/ipykernel_launcher.py:127: UserWarning: `Model.fit_generator` is deprecated and will be removed in a future version. Please use `Model.fit`, which supports generators.\n"
          ]
        },
        {
          "name": "stdout",
          "output_type": "stream",
          "text": [
            "Epoch 1/15\n",
            "17/17 [==============================] - ETA: 0s - loss: 1.5987 - categorical_accuracy: 0.3937\n",
            "Epoch 1: val_loss improved from inf to 1.80476, saving model to model_init_2022-05-0806_28_16.180895/model-00001-1.59868-0.39367-1.80476-0.21000.h5\n",
            "17/17 [==============================] - 190s 12s/step - loss: 1.5987 - categorical_accuracy: 0.3937 - val_loss: 1.8048 - val_categorical_accuracy: 0.2100 - lr: 0.0010\n",
            "Epoch 2/15\n",
            "17/17 [==============================] - ETA: 0s - loss: 1.1447 - categorical_accuracy: 0.5777\n",
            "Epoch 2: val_loss did not improve from 1.80476\n",
            "17/17 [==============================] - 189s 12s/step - loss: 1.1447 - categorical_accuracy: 0.5777 - val_loss: 3.0433 - val_categorical_accuracy: 0.2400 - lr: 0.0010\n",
            "Epoch 3/15\n",
            "17/17 [==============================] - ETA: 0s - loss: 0.8514 - categorical_accuracy: 0.6621\n",
            "Epoch 3: val_loss did not improve from 1.80476\n",
            "17/17 [==============================] - 180s 11s/step - loss: 0.8514 - categorical_accuracy: 0.6621 - val_loss: 3.4419 - val_categorical_accuracy: 0.2000 - lr: 0.0010\n",
            "Epoch 4/15\n",
            "17/17 [==============================] - ETA: 0s - loss: 0.6315 - categorical_accuracy: 0.7602\n",
            "Epoch 4: val_loss did not improve from 1.80476\n",
            "17/17 [==============================] - 189s 12s/step - loss: 0.6315 - categorical_accuracy: 0.7602 - val_loss: 3.6579 - val_categorical_accuracy: 0.2100 - lr: 0.0010\n",
            "Epoch 5/15\n",
            "17/17 [==============================] - ETA: 0s - loss: 0.4587 - categorical_accuracy: 0.8416\n",
            "Epoch 5: val_loss did not improve from 1.80476\n",
            "\n",
            "Epoch 5: ReduceLROnPlateau reducing learning rate to 0.00020000000949949026.\n",
            "17/17 [==============================] - 186s 12s/step - loss: 0.4587 - categorical_accuracy: 0.8416 - val_loss: 3.5304 - val_categorical_accuracy: 0.2000 - lr: 0.0010\n",
            "Epoch 6/15\n",
            "17/17 [==============================] - ETA: 0s - loss: 0.3426 - categorical_accuracy: 0.8944\n",
            "Epoch 6: val_loss did not improve from 1.80476\n",
            "17/17 [==============================] - 188s 12s/step - loss: 0.3426 - categorical_accuracy: 0.8944 - val_loss: 3.6150 - val_categorical_accuracy: 0.2300 - lr: 2.0000e-04\n",
            "Epoch 7/15\n",
            "17/17 [==============================] - ETA: 0s - loss: 0.2839 - categorical_accuracy: 0.9276\n",
            "Epoch 7: val_loss did not improve from 1.80476\n",
            "17/17 [==============================] - 188s 12s/step - loss: 0.2839 - categorical_accuracy: 0.9276 - val_loss: 4.0112 - val_categorical_accuracy: 0.2100 - lr: 2.0000e-04\n",
            "Epoch 8/15\n",
            "17/17 [==============================] - ETA: 0s - loss: 0.2450 - categorical_accuracy: 0.9351\n",
            "Epoch 8: val_loss did not improve from 1.80476\n",
            "17/17 [==============================] - 190s 12s/step - loss: 0.2450 - categorical_accuracy: 0.9351 - val_loss: 4.0244 - val_categorical_accuracy: 0.2200 - lr: 2.0000e-04\n",
            "Epoch 9/15\n",
            "17/17 [==============================] - ETA: 0s - loss: 0.2392 - categorical_accuracy: 0.9457\n",
            "Epoch 9: val_loss did not improve from 1.80476\n",
            "\n",
            "Epoch 9: ReduceLROnPlateau reducing learning rate to 4.0000001899898055e-05.\n",
            "17/17 [==============================] - 195s 12s/step - loss: 0.2392 - categorical_accuracy: 0.9457 - val_loss: 4.3807 - val_categorical_accuracy: 0.1800 - lr: 2.0000e-04\n",
            "Epoch 10/15\n",
            "17/17 [==============================] - ETA: 0s - loss: 0.2245 - categorical_accuracy: 0.9457\n",
            "Epoch 10: val_loss did not improve from 1.80476\n",
            "17/17 [==============================] - 190s 12s/step - loss: 0.2245 - categorical_accuracy: 0.9457 - val_loss: 4.3545 - val_categorical_accuracy: 0.2100 - lr: 4.0000e-05\n",
            "Epoch 11/15\n",
            "17/17 [==============================] - ETA: 0s - loss: 0.2006 - categorical_accuracy: 0.9548 \n",
            "Epoch 11: val_loss did not improve from 1.80476\n",
            "17/17 [==============================] - 199s 12s/step - loss: 0.2006 - categorical_accuracy: 0.9548 - val_loss: 4.3965 - val_categorical_accuracy: 0.1900 - lr: 4.0000e-05\n",
            "Epoch 11: early stopping\n"
          ]
        }
      ],
      "source": [
        "print(\"Total Params:\", conv_3d1_model.count_params())\n",
        "history_model1 = conv_3d1.train_model(conv_3d1_model)"
      ]
    },
    {
      "cell_type": "code",
      "execution_count": null,
      "metadata": {
        "colab": {
          "base_uri": "https://localhost:8080/",
          "height": 265
        },
        "id": "AEfzh6Ey0MTI",
        "outputId": "076641b4-6bd3-4230-8292-1a4eca10641e"
      },
      "outputs": [
        {
          "data": {
            "image/png": "[encoded data removed]",
            "text/plain": [
              "<Figure size 1080x288 with 2 Axes>"
            ]
          },
          "metadata": {},
          "output_type": "display_data"
        }
      ],
      "source": [
        "plot(history_model1) #clearly overfitting"
      ]
    },
    {
      "cell_type": "markdown",
      "metadata": {
        "id": "-HNlCYCYhT2F"
      },
      "source": [
        "## MODEL 2 - Adding dropout layers - Batch Size = 20 and No. of Epochs = 25"
      ]
    },
    {
      "cell_type": "code",
      "execution_count": null,
      "metadata": {
        "colab": {
          "base_uri": "https://localhost:8080/"
        },
        "id": "4dYIYEEQ0MWQ",
        "outputId": "3396d0ad-f1fc-461b-a052-0f70e5256750"
      },
      "outputs": [
        {
          "name": "stdout",
          "output_type": "stream",
          "text": [
            "Model: \"sequential_8\"\n",
            "_________________________________________________________________\n",
            " Layer (type)                Output Shape              Param #   \n",
            "=================================================================\n",
            " conv3d_32 (Conv3D)          (None, 20, 160, 160, 16)  1312      \n",
            "                                                                 \n",
            " activation_32 (Activation)  (None, 20, 160, 160, 16)  0         \n",
            "                                                                 \n",
            " batch_normalization_46 (Bat  (None, 20, 160, 160, 16)  64       \n",
            " chNormalization)                                                \n",
            "                                                                 \n",
            " max_pooling3d_32 (MaxPoolin  (None, 10, 80, 80, 16)   0         \n",
            " g3D)                                                            \n",
            "                                                                 \n",
            " conv3d_33 (Conv3D)          (None, 10, 80, 80, 32)    13856     \n",
            "                                                                 \n",
            " activation_33 (Activation)  (None, 10, 80, 80, 32)    0         \n",
            "                                                                 \n",
            " batch_normalization_47 (Bat  (None, 10, 80, 80, 32)   128       \n",
            " chNormalization)                                                \n",
            "                                                                 \n",
            " max_pooling3d_33 (MaxPoolin  (None, 5, 40, 40, 32)    0         \n",
            " g3D)                                                            \n",
            "                                                                 \n",
            " conv3d_34 (Conv3D)          (None, 5, 40, 40, 64)     55360     \n",
            "                                                                 \n",
            " activation_34 (Activation)  (None, 5, 40, 40, 64)     0         \n",
            "                                                                 \n",
            " batch_normalization_48 (Bat  (None, 5, 40, 40, 64)    256       \n",
            " chNormalization)                                                \n",
            "                                                                 \n",
            " max_pooling3d_34 (MaxPoolin  (None, 2, 20, 20, 64)    0         \n",
            " g3D)                                                            \n",
            "                                                                 \n",
            " conv3d_35 (Conv3D)          (None, 2, 20, 20, 128)    221312    \n",
            "                                                                 \n",
            " activation_35 (Activation)  (None, 2, 20, 20, 128)    0         \n",
            "                                                                 \n",
            " batch_normalization_49 (Bat  (None, 2, 20, 20, 128)   512       \n",
            " chNormalization)                                                \n",
            "                                                                 \n",
            " max_pooling3d_35 (MaxPoolin  (None, 1, 10, 10, 128)   0         \n",
            " g3D)                                                            \n",
            "                                                                 \n",
            " flatten_7 (Flatten)         (None, 12800)             0         \n",
            "                                                                 \n",
            " dense_21 (Dense)            (None, 256)               3277056   \n",
            "                                                                 \n",
            " batch_normalization_50 (Bat  (None, 256)              1024      \n",
            " chNormalization)                                                \n",
            "                                                                 \n",
            " dropout_14 (Dropout)        (None, 256)               0         \n",
            "                                                                 \n",
            " dense_22 (Dense)            (None, 256)               65792     \n",
            "                                                                 \n",
            " batch_normalization_51 (Bat  (None, 256)              1024      \n",
            " chNormalization)                                                \n",
            "                                                                 \n",
            " dropout_15 (Dropout)        (None, 256)               0         \n",
            "                                                                 \n",
            " dense_23 (Dense)            (None, 5)                 1285      \n",
            "                                                                 \n",
            "=================================================================\n",
            "Total params: 3,638,981\n",
            "Trainable params: 3,637,477\n",
            "Non-trainable params: 1,504\n",
            "_________________________________________________________________\n"
          ]
        }
      ],
      "source": [
        "conv_3d2=ModelConv3D1()\n",
        "conv_3d2.initialize_path(project_folder)\n",
        "conv_3d2.initialize_image_properties(image_height=160,image_width=160)\n",
        "conv_3d2.initialize_hyperparams(frames_to_sample=20,batch_size=20,num_epochs=25)\n",
        "conv_3d2_model=conv_3d2.define_model(dense_neurons=256,dropout=0.5)\n",
        "conv_3d2_model.summary()"
      ]
    },
    {
      "cell_type": "code",
      "execution_count": null,
      "metadata": {
        "colab": {
          "base_uri": "https://localhost:8080/"
        },
        "id": "lavtmrIo0MZZ",
        "outputId": "44b5be3a-45e2-4c11-a780-26940c156b4c"
      },
      "outputs": [
        {
          "name": "stdout",
          "output_type": "stream",
          "text": [
            "Total Params: 3638981\n",
            "WARNING:tensorflow:`period` argument is deprecated. Please use `save_freq` to specify the frequency in number of batches seen.\n"
          ]
        },
        {
          "name": "stderr",
          "output_type": "stream",
          "text": [
            "/usr/local/lib/python3.7/dist-packages/ipykernel_launcher.py:127: UserWarning: `Model.fit_generator` is deprecated and will be removed in a future version. Please use `Model.fit`, which supports generators.\n"
          ]
        },
        {
          "name": "stdout",
          "output_type": "stream",
          "text": [
            "Epoch 1/25\n",
            "34/34 [==============================] - ETA: 0s - loss: 2.0017 - categorical_accuracy: 0.3801\n",
            "Epoch 1: val_loss improved from inf to 2.48916, saving model to model_init_2022-05-0807_15_10.567899/model-00001-2.00171-0.38009-2.48916-0.30000.h5\n",
            "34/34 [==============================] - 338s 10s/step - loss: 2.0017 - categorical_accuracy: 0.3801 - val_loss: 2.4892 - val_categorical_accuracy: 0.3000 - lr: 0.0010\n",
            "Epoch 2/25\n",
            "34/34 [==============================] - ETA: 0s - loss: 1.4270 - categorical_accuracy: 0.5068\n",
            "Epoch 2: val_loss did not improve from 2.48916\n",
            "34/34 [==============================] - 329s 10s/step - loss: 1.4270 - categorical_accuracy: 0.5068 - val_loss: 2.7997 - val_categorical_accuracy: 0.3000 - lr: 0.0010\n",
            "Epoch 3/25\n",
            "34/34 [==============================] - ETA: 0s - loss: 1.2224 - categorical_accuracy: 0.5875\n",
            "Epoch 3: val_loss did not improve from 2.48916\n",
            "34/34 [==============================] - 327s 10s/step - loss: 1.2224 - categorical_accuracy: 0.5875 - val_loss: 4.4477 - val_categorical_accuracy: 0.2100 - lr: 0.0010\n",
            "Epoch 4/25\n",
            "34/34 [==============================] - ETA: 0s - loss: 1.0209 - categorical_accuracy: 0.6275\n",
            "Epoch 4: val_loss did not improve from 2.48916\n",
            "34/34 [==============================] - 328s 10s/step - loss: 1.0209 - categorical_accuracy: 0.6275 - val_loss: 7.5947 - val_categorical_accuracy: 0.1600 - lr: 0.0010\n",
            "Epoch 5/25\n",
            "34/34 [==============================] - ETA: 0s - loss: 0.9415 - categorical_accuracy: 0.6704\n",
            "Epoch 5: val_loss did not improve from 2.48916\n",
            "\n",
            "Epoch 5: ReduceLROnPlateau reducing learning rate to 0.00020000000949949026.\n",
            "34/34 [==============================] - 333s 10s/step - loss: 0.9415 - categorical_accuracy: 0.6704 - val_loss: 3.1218 - val_categorical_accuracy: 0.3700 - lr: 0.0010\n",
            "Epoch 6/25\n",
            "34/34 [==============================] - ETA: 0s - loss: 0.6764 - categorical_accuracy: 0.7443\n",
            "Epoch 6: val_loss did not improve from 2.48916\n",
            "34/34 [==============================] - 335s 10s/step - loss: 0.6764 - categorical_accuracy: 0.7443 - val_loss: 3.5957 - val_categorical_accuracy: 0.2200 - lr: 2.0000e-04\n",
            "Epoch 7/25\n",
            "34/34 [==============================] - ETA: 0s - loss: 0.6513 - categorical_accuracy: 0.7549\n",
            "Epoch 7: val_loss did not improve from 2.48916\n",
            "34/34 [==============================] - 336s 10s/step - loss: 0.6513 - categorical_accuracy: 0.7549 - val_loss: 3.8211 - val_categorical_accuracy: 0.2400 - lr: 2.0000e-04\n",
            "Epoch 8/25\n",
            "34/34 [==============================] - ETA: 0s - loss: 0.6148 - categorical_accuracy: 0.7662\n",
            "Epoch 8: val_loss did not improve from 2.48916\n",
            "34/34 [==============================] - 333s 10s/step - loss: 0.6148 - categorical_accuracy: 0.7662 - val_loss: 4.1871 - val_categorical_accuracy: 0.2300 - lr: 2.0000e-04\n",
            "Epoch 9/25\n",
            "34/34 [==============================] - ETA: 0s - loss: 0.5115 - categorical_accuracy: 0.8084\n",
            "Epoch 9: val_loss did not improve from 2.48916\n",
            "\n",
            "Epoch 9: ReduceLROnPlateau reducing learning rate to 4.0000001899898055e-05.\n",
            "34/34 [==============================] - 330s 10s/step - loss: 0.5115 - categorical_accuracy: 0.8084 - val_loss: 3.7637 - val_categorical_accuracy: 0.2500 - lr: 2.0000e-04\n",
            "Epoch 10/25\n",
            "34/34 [==============================] - ETA: 0s - loss: 0.5044 - categorical_accuracy: 0.8047\n",
            "Epoch 10: val_loss did not improve from 2.48916\n",
            "34/34 [==============================] - 331s 10s/step - loss: 0.5044 - categorical_accuracy: 0.8047 - val_loss: 3.6297 - val_categorical_accuracy: 0.2900 - lr: 4.0000e-05\n",
            "Epoch 11/25\n",
            "34/34 [==============================] - ETA: 0s - loss: 0.4952 - categorical_accuracy: 0.8205\n",
            "Epoch 11: val_loss did not improve from 2.48916\n",
            "34/34 [==============================] - 333s 10s/step - loss: 0.4952 - categorical_accuracy: 0.8205 - val_loss: 3.3232 - val_categorical_accuracy: 0.3000 - lr: 4.0000e-05\n",
            "Epoch 11: early stopping\n"
          ]
        }
      ],
      "source": [
        "print(\"Total Params:\", conv_3d2_model.count_params())\n",
        "history_model2=conv_3d2.train_model(conv_3d2_model,augment_data=True)"
      ]
    },
    {
      "cell_type": "code",
      "execution_count": null,
      "metadata": {
        "colab": {
          "base_uri": "https://localhost:8080/",
          "height": 265
        },
        "id": "gZYllu720Mc9",
        "outputId": "740c849a-18ac-43c1-f2f2-f4431335bbe5"
      },
      "outputs": [
        {
          "data": {
            "image/png": "[encoded data removed]",
            "text/plain": [
              "<Figure size 1080x288 with 2 Axes>"
            ]
          },
          "metadata": {},
          "output_type": "display_data"
        }
      ],
      "source": [
        "plot(history_model2)"
      ]
    },
    {
      "cell_type": "markdown",
      "metadata": {
        "id": "TrLooONLy1E-"
      },
      "source": [
        "## Model 3\n",
        "## Reduce filter size to (2,2,2) and image res to 120 x 120, - Batch Size = 30 and No. of Epochs = 25"
      ]
    },
    {
      "cell_type": "code",
      "execution_count": null,
      "metadata": {
        "id": "5sotwhkJ0Mfs"
      },
      "outputs": [],
      "source": [
        "class ModelConv3D3(ModelBuilder):\n",
        "    \n",
        "    def define_model(self,filtersize=(3,3,3),dense_neurons=64,dropout=0.25):\n",
        "\n",
        "        model = Sequential()\n",
        "        model.add(Conv3D(16, filtersize, padding='same',\n",
        "                 input_shape=(self.frames_to_sample,self.image_height,self.image_width,self.channels)))\n",
        "        model.add(Activation('relu'))\n",
        "        model.add(BatchNormalization())\n",
        "        model.add(MaxPooling3D(pool_size=(2, 2, 2)))\n",
        "\n",
        "        model.add(Conv3D(32, filtersize, padding='same'))\n",
        "        model.add(Activation('relu'))\n",
        "        model.add(BatchNormalization())\n",
        "        model.add(MaxPooling3D(pool_size=(2, 2, 2)))\n",
        "\n",
        "        model.add(Conv3D(64, filtersize, padding='same'))\n",
        "        model.add(Activation('relu'))\n",
        "        model.add(BatchNormalization())\n",
        "        model.add(MaxPooling3D(pool_size=(2, 2, 2)))\n",
        "\n",
        "        model.add(Conv3D(128, filtersize, padding='same'))\n",
        "        model.add(Activation('relu'))\n",
        "        model.add(BatchNormalization())\n",
        "        model.add(MaxPooling3D(pool_size=(2, 2, 2)))\n",
        "\n",
        "        model.add(Flatten())\n",
        "        model.add(Dense(dense_neurons,activation='relu'))\n",
        "        model.add(BatchNormalization())\n",
        "        model.add(Dropout(dropout))\n",
        "\n",
        "        model.add(Dense(dense_neurons,activation='relu'))\n",
        "        model.add(BatchNormalization())\n",
        "        model.add(Dropout(dropout))\n",
        "\n",
        "\n",
        "        model.add(Dense(self.num_classes,activation='softmax'))\n",
        "        \n",
        "        optimiser =Adam(lr=0.0002)\n",
        "        model.compile(optimizer=optimiser, loss='categorical_crossentropy', metrics=['categorical_accuracy'])\n",
        "        return model"
      ]
    },
    {
      "cell_type": "code",
      "execution_count": null,
      "metadata": {
        "colab": {
          "base_uri": "https://localhost:8080/"
        },
        "id": "rcuWb1aCiU_a",
        "outputId": "776d3178-a117-4808-c054-097b7e7222e8"
      },
      "outputs": [
        {
          "name": "stdout",
          "output_type": "stream",
          "text": [
            "Model: \"sequential_1\"\n",
            "_________________________________________________________________\n",
            " Layer (type)                Output Shape              Param #   \n",
            "=================================================================\n",
            " conv3d_4 (Conv3D)           (None, 16, 120, 120, 16)  400       \n",
            "                                                                 \n",
            " activation_4 (Activation)   (None, 16, 120, 120, 16)  0         \n",
            "                                                                 \n",
            " batch_normalization_6 (Batc  (None, 16, 120, 120, 16)  64       \n",
            " hNormalization)                                                 \n",
            "                                                                 \n",
            " max_pooling3d_4 (MaxPooling  (None, 8, 60, 60, 16)    0         \n",
            " 3D)                                                             \n",
            "                                                                 \n",
            " conv3d_5 (Conv3D)           (None, 8, 60, 60, 32)     4128      \n",
            "                                                                 \n",
            " activation_5 (Activation)   (None, 8, 60, 60, 32)     0         \n",
            "                                                                 \n",
            " batch_normalization_7 (Batc  (None, 8, 60, 60, 32)    128       \n",
            " hNormalization)                                                 \n",
            "                                                                 \n",
            " max_pooling3d_5 (MaxPooling  (None, 4, 30, 30, 32)    0         \n",
            " 3D)                                                             \n",
            "                                                                 \n",
            " conv3d_6 (Conv3D)           (None, 4, 30, 30, 64)     16448     \n",
            "                                                                 \n",
            " activation_6 (Activation)   (None, 4, 30, 30, 64)     0         \n",
            "                                                                 \n",
            " batch_normalization_8 (Batc  (None, 4, 30, 30, 64)    256       \n",
            " hNormalization)                                                 \n",
            "                                                                 \n",
            " max_pooling3d_6 (MaxPooling  (None, 2, 15, 15, 64)    0         \n",
            " 3D)                                                             \n",
            "                                                                 \n",
            " conv3d_7 (Conv3D)           (None, 2, 15, 15, 128)    65664     \n",
            "                                                                 \n",
            " activation_7 (Activation)   (None, 2, 15, 15, 128)    0         \n",
            "                                                                 \n",
            " batch_normalization_9 (Batc  (None, 2, 15, 15, 128)   512       \n",
            " hNormalization)                                                 \n",
            "                                                                 \n",
            " max_pooling3d_7 (MaxPooling  (None, 1, 7, 7, 128)     0         \n",
            " 3D)                                                             \n",
            "                                                                 \n",
            " flatten_1 (Flatten)         (None, 6272)              0         \n",
            "                                                                 \n",
            " dense_3 (Dense)             (None, 256)               1605888   \n",
            "                                                                 \n",
            " batch_normalization_10 (Bat  (None, 256)              1024      \n",
            " chNormalization)                                                \n",
            "                                                                 \n",
            " dropout_2 (Dropout)         (None, 256)               0         \n",
            "                                                                 \n",
            " dense_4 (Dense)             (None, 256)               65792     \n",
            "                                                                 \n",
            " batch_normalization_11 (Bat  (None, 256)              1024      \n",
            " chNormalization)                                                \n",
            "                                                                 \n",
            " dropout_3 (Dropout)         (None, 256)               0         \n",
            "                                                                 \n",
            " dense_5 (Dense)             (None, 5)                 1285      \n",
            "                                                                 \n",
            "=================================================================\n",
            "Total params: 1,762,613\n",
            "Trainable params: 1,761,109\n",
            "Non-trainable params: 1,504\n",
            "_________________________________________________________________\n"
          ]
        },
        {
          "name": "stderr",
          "output_type": "stream",
          "text": [
            "/usr/local/lib/python3.7/dist-packages/keras/optimizer_v2/adam.py:105: UserWarning: The `lr` argument is deprecated, use `learning_rate` instead.\n",
            "  super(Adam, self).__init__(name, **kwargs)\n"
          ]
        }
      ],
      "source": [
        "conv_3d3=ModelConv3D3()\n",
        "conv_3d3.initialize_path(project_folder)\n",
        "conv_3d3.initialize_image_properties(image_height=120,image_width=120)\n",
        "conv_3d3.initialize_hyperparams(frames_to_sample=16,batch_size=30,num_epochs=25)\n",
        "conv_3d3_model=conv_3d3.define_model(filtersize=(2,2,2),dense_neurons=256,dropout=0.5)\n",
        "conv_3d3_model.summary()"
      ]
    },
    {
      "cell_type": "code",
      "execution_count": null,
      "metadata": {
        "colab": {
          "base_uri": "https://localhost:8080/"
        },
        "id": "vCsw_EHEiVCs",
        "outputId": "8ad0d009-1593-49eb-a9e3-b6c8b283a656"
      },
      "outputs": [
        {
          "name": "stdout",
          "output_type": "stream",
          "text": [
            "Total Params: 1762613\n",
            "WARNING:tensorflow:`period` argument is deprecated. Please use `save_freq` to specify the frequency in number of batches seen.\n"
          ]
        },
        {
          "name": "stderr",
          "output_type": "stream",
          "text": [
            "/usr/local/lib/python3.7/dist-packages/ipykernel_launcher.py:127: UserWarning: `Model.fit_generator` is deprecated and will be removed in a future version. Please use `Model.fit`, which supports generators.\n"
          ]
        },
        {
          "name": "stdout",
          "output_type": "stream",
          "text": [
            "Epoch 1/25\n",
            "23/23 [==============================] - ETA: 0s - loss: 2.1466 - categorical_accuracy: 0.3575  \n",
            "Epoch 1: val_loss improved from inf to 1.72656, saving model to model_init_2022-05-1014_36_08.092467/model-00001-2.14660-0.35747-1.72656-0.16000.h5\n",
            "23/23 [==============================] - 7676s 348s/step - loss: 2.1466 - categorical_accuracy: 0.3575 - val_loss: 1.7266 - val_categorical_accuracy: 0.1600 - lr: 2.0000e-04\n",
            "Epoch 2/25\n",
            "23/23 [==============================] - ETA: 0s - loss: 1.4154 - categorical_accuracy: 0.5332\n",
            "Epoch 2: val_loss did not improve from 1.72656\n",
            "23/23 [==============================] - 184s 8s/step - loss: 1.4154 - categorical_accuracy: 0.5332 - val_loss: 2.2668 - val_categorical_accuracy: 0.1600 - lr: 2.0000e-04\n",
            "Epoch 3/25\n",
            "23/23 [==============================] - ETA: 0s - loss: 1.1928 - categorical_accuracy: 0.5897\n",
            "Epoch 3: val_loss did not improve from 1.72656\n",
            "23/23 [==============================] - 189s 9s/step - loss: 1.1928 - categorical_accuracy: 0.5897 - val_loss: 3.2225 - val_categorical_accuracy: 0.1500 - lr: 2.0000e-04\n",
            "Epoch 4/25\n",
            "23/23 [==============================] - ETA: 0s - loss: 1.1634 - categorical_accuracy: 0.6094\n",
            "Epoch 4: val_loss did not improve from 1.72656\n",
            "23/23 [==============================] - 183s 8s/step - loss: 1.1634 - categorical_accuracy: 0.6094 - val_loss: 4.3056 - val_categorical_accuracy: 0.1700 - lr: 2.0000e-04\n",
            "Epoch 5/25\n",
            "23/23 [==============================] - ETA: 0s - loss: 1.0298 - categorical_accuracy: 0.6388\n",
            "Epoch 5: val_loss did not improve from 1.72656\n",
            "\n",
            "Epoch 5: ReduceLROnPlateau reducing learning rate to 3.9999998989515007e-05.\n",
            "23/23 [==============================] - 195s 9s/step - loss: 1.0298 - categorical_accuracy: 0.6388 - val_loss: 4.7271 - val_categorical_accuracy: 0.1600 - lr: 2.0000e-04\n",
            "Epoch 6/25\n",
            "23/23 [==============================] - ETA: 0s - loss: 0.9445 - categorical_accuracy: 0.6516\n",
            "Epoch 6: val_loss did not improve from 1.72656\n",
            "23/23 [==============================] - 199s 9s/step - loss: 0.9445 - categorical_accuracy: 0.6516 - val_loss: 4.9183 - val_categorical_accuracy: 0.1800 - lr: 4.0000e-05\n",
            "Epoch 7/25\n",
            "23/23 [==============================] - ETA: 0s - loss: 0.8843 - categorical_accuracy: 0.6780\n",
            "Epoch 7: val_loss did not improve from 1.72656\n",
            "23/23 [==============================] - 191s 9s/step - loss: 0.8843 - categorical_accuracy: 0.6780 - val_loss: 5.1361 - val_categorical_accuracy: 0.2500 - lr: 4.0000e-05\n",
            "Epoch 8/25\n",
            "23/23 [==============================] - ETA: 0s - loss: 0.8586 - categorical_accuracy: 0.6848\n",
            "Epoch 8: val_loss did not improve from 1.72656\n",
            "23/23 [==============================] - 191s 9s/step - loss: 0.8586 - categorical_accuracy: 0.6848 - val_loss: 5.7555 - val_categorical_accuracy: 0.3000 - lr: 4.0000e-05\n",
            "Epoch 9/25\n",
            "23/23 [==============================] - ETA: 0s - loss: 0.8149 - categorical_accuracy: 0.7059\n",
            "Epoch 9: val_loss did not improve from 1.72656\n",
            "\n",
            "Epoch 9: ReduceLROnPlateau reducing learning rate to 7.999999797903002e-06.\n",
            "23/23 [==============================] - 192s 9s/step - loss: 0.8149 - categorical_accuracy: 0.7059 - val_loss: 5.9138 - val_categorical_accuracy: 0.3200 - lr: 4.0000e-05\n",
            "Epoch 10/25\n",
            "23/23 [==============================] - ETA: 0s - loss: 0.7672 - categorical_accuracy: 0.7066\n",
            "Epoch 10: val_loss did not improve from 1.72656\n",
            "23/23 [==============================] - 197s 9s/step - loss: 0.7672 - categorical_accuracy: 0.7066 - val_loss: 6.2233 - val_categorical_accuracy: 0.3200 - lr: 8.0000e-06\n",
            "Epoch 11/25\n",
            "23/23 [==============================] - ETA: 0s - loss: 0.8012 - categorical_accuracy: 0.7059\n",
            "Epoch 11: val_loss did not improve from 1.72656\n",
            "23/23 [==============================] - 188s 9s/step - loss: 0.8012 - categorical_accuracy: 0.7059 - val_loss: 6.7384 - val_categorical_accuracy: 0.2400 - lr: 8.0000e-06\n",
            "Epoch 11: early stopping\n"
          ]
        }
      ],
      "source": [
        "print(\"Total Params:\", conv_3d3_model.count_params())\n",
        "history_model3=conv_3d3.train_model(conv_3d3_model,augment_data=True)"
      ]
    },
    {
      "cell_type": "code",
      "execution_count": null,
      "metadata": {
        "colab": {
          "base_uri": "https://localhost:8080/",
          "height": 268
        },
        "id": "zmgu3janiVGu",
        "outputId": "43d3a66e-455a-4d4d-89c2-146fc46a00a5"
      },
      "outputs": [
        {
          "data": {
            "image/png": "[encoded data removed]",
            "text/plain": [
              "<Figure size 1080x288 with 2 Axes>"
            ]
          },
          "metadata": {},
          "output_type": "display_data"
        }
      ],
      "source": [
        "plot(history_model3)"
      ]
    },
    {
      "cell_type": "markdown",
      "metadata": {
        "id": "YGY9d4ny9Pj_"
      },
      "source": [
        "## Model 4 -\n",
        "### Adding more layers - Batch Size = 20 and No. of Epochs = 25"
      ]
    },
    {
      "cell_type": "code",
      "execution_count": null,
      "metadata": {
        "id": "dISu_T0QiVJR"
      },
      "outputs": [],
      "source": [
        "class ModelConv3D4(ModelBuilder):\n",
        "    \n",
        "    def define_model(self,filtersize=(3,3,3),dense_neurons=64,dropout=0.25):\n",
        "\n",
        "        model = Sequential()\n",
        "        model.add(Conv3D(16, filtersize, padding='same',\n",
        "                 input_shape=(self.frames_to_sample,self.image_height,self.image_width,self.channels)))\n",
        "        model.add(Activation('relu'))\n",
        "        model.add(BatchNormalization())\n",
        "        \n",
        "        model.add(Conv3D(16, filtersize, padding='same',\n",
        "                 input_shape=(self.frames_to_sample,self.image_height,self.image_width,self.channels)))\n",
        "        model.add(Activation('relu'))\n",
        "        model.add(BatchNormalization())\n",
        "        \n",
        "        model.add(MaxPooling3D(pool_size=(2, 2, 2)))\n",
        "\n",
        "        model.add(Conv3D(32, filtersize, padding='same'))\n",
        "        model.add(Activation('relu'))\n",
        "        model.add(BatchNormalization())\n",
        "        \n",
        "        model.add(Conv3D(32, filtersize, padding='same'))\n",
        "        model.add(Activation('relu'))\n",
        "        model.add(BatchNormalization())\n",
        "        \n",
        "        model.add(MaxPooling3D(pool_size=(2, 2, 2)))\n",
        "\n",
        "        model.add(Conv3D(64, filtersize, padding='same'))\n",
        "        model.add(Activation('relu'))\n",
        "        model.add(BatchNormalization())\n",
        "        \n",
        "        model.add(Conv3D(64, filtersize, padding='same'))\n",
        "        model.add(Activation('relu'))\n",
        "        model.add(BatchNormalization())\n",
        "        \n",
        "        model.add(MaxPooling3D(pool_size=(2, 2, 2)))\n",
        "\n",
        "        model.add(Conv3D(128, filtersize, padding='same'))\n",
        "        model.add(Activation('relu'))\n",
        "        model.add(BatchNormalization())\n",
        "        \n",
        "        model.add(Conv3D(128, filtersize, padding='same'))\n",
        "        model.add(Activation('relu'))\n",
        "        model.add(BatchNormalization())\n",
        "        \n",
        "        model.add(MaxPooling3D(pool_size=(2, 2, 2)))\n",
        "        \n",
        "\n",
        "        model.add(Flatten())\n",
        "        model.add(Dense(dense_neurons,activation='relu'))\n",
        "        model.add(BatchNormalization())\n",
        "        model.add(Dropout(dropout))\n",
        "\n",
        "        model.add(Dense(dense_neurons,activation='relu'))\n",
        "        model.add(BatchNormalization())\n",
        "        model.add(Dropout(dropout))\n",
        "\n",
        "\n",
        "        model.add(Dense(self.num_classes,activation='softmax'))\n",
        "\n",
        "        optimiser = Adam()\n",
        "        model.compile(optimizer=optimiser, loss='categorical_crossentropy', metrics=['categorical_accuracy'])\n",
        "        return model"
      ]
    },
    {
      "cell_type": "code",
      "execution_count": null,
      "metadata": {
        "colab": {
          "base_uri": "https://localhost:8080/"
        },
        "id": "Z7KpNsE_iVMb",
        "outputId": "37711aec-bae9-43db-8de4-9c2a71bd07f9"
      },
      "outputs": [
        {
          "name": "stdout",
          "output_type": "stream",
          "text": [
            "Model: \"sequential_10\"\n",
            "_________________________________________________________________\n",
            " Layer (type)                Output Shape              Param #   \n",
            "=================================================================\n",
            " conv3d_40 (Conv3D)          (None, 16, 120, 120, 16)  1312      \n",
            "                                                                 \n",
            " activation_40 (Activation)  (None, 16, 120, 120, 16)  0         \n",
            "                                                                 \n",
            " batch_normalization_58 (Bat  (None, 16, 120, 120, 16)  64       \n",
            " chNormalization)                                                \n",
            "                                                                 \n",
            " conv3d_41 (Conv3D)          (None, 16, 120, 120, 16)  6928      \n",
            "                                                                 \n",
            " activation_41 (Activation)  (None, 16, 120, 120, 16)  0         \n",
            "                                                                 \n",
            " batch_normalization_59 (Bat  (None, 16, 120, 120, 16)  64       \n",
            " chNormalization)                                                \n",
            "                                                                 \n",
            " max_pooling3d_40 (MaxPoolin  (None, 8, 60, 60, 16)    0         \n",
            " g3D)                                                            \n",
            "                                                                 \n",
            " conv3d_42 (Conv3D)          (None, 8, 60, 60, 32)     13856     \n",
            "                                                                 \n",
            " activation_42 (Activation)  (None, 8, 60, 60, 32)     0         \n",
            "                                                                 \n",
            " batch_normalization_60 (Bat  (None, 8, 60, 60, 32)    128       \n",
            " chNormalization)                                                \n",
            "                                                                 \n",
            " conv3d_43 (Conv3D)          (None, 8, 60, 60, 32)     27680     \n",
            "                                                                 \n",
            " activation_43 (Activation)  (None, 8, 60, 60, 32)     0         \n",
            "                                                                 \n",
            " batch_normalization_61 (Bat  (None, 8, 60, 60, 32)    128       \n",
            " chNormalization)                                                \n",
            "                                                                 \n",
            " max_pooling3d_41 (MaxPoolin  (None, 4, 30, 30, 32)    0         \n",
            " g3D)                                                            \n",
            "                                                                 \n",
            " conv3d_44 (Conv3D)          (None, 4, 30, 30, 64)     55360     \n",
            "                                                                 \n",
            " activation_44 (Activation)  (None, 4, 30, 30, 64)     0         \n",
            "                                                                 \n",
            " batch_normalization_62 (Bat  (None, 4, 30, 30, 64)    256       \n",
            " chNormalization)                                                \n",
            "                                                                 \n",
            " conv3d_45 (Conv3D)          (None, 4, 30, 30, 64)     110656    \n",
            "                                                                 \n",
            " activation_45 (Activation)  (None, 4, 30, 30, 64)     0         \n",
            "                                                                 \n",
            " batch_normalization_63 (Bat  (None, 4, 30, 30, 64)    256       \n",
            " chNormalization)                                                \n",
            "                                                                 \n",
            " max_pooling3d_42 (MaxPoolin  (None, 2, 15, 15, 64)    0         \n",
            " g3D)                                                            \n",
            "                                                                 \n",
            " conv3d_46 (Conv3D)          (None, 2, 15, 15, 128)    221312    \n",
            "                                                                 \n",
            " activation_46 (Activation)  (None, 2, 15, 15, 128)    0         \n",
            "                                                                 \n",
            " batch_normalization_64 (Bat  (None, 2, 15, 15, 128)   512       \n",
            " chNormalization)                                                \n",
            "                                                                 \n",
            " conv3d_47 (Conv3D)          (None, 2, 15, 15, 128)    442496    \n",
            "                                                                 \n",
            " activation_47 (Activation)  (None, 2, 15, 15, 128)    0         \n",
            "                                                                 \n",
            " batch_normalization_65 (Bat  (None, 2, 15, 15, 128)   512       \n",
            " chNormalization)                                                \n",
            "                                                                 \n",
            " max_pooling3d_43 (MaxPoolin  (None, 1, 7, 7, 128)     0         \n",
            " g3D)                                                            \n",
            "                                                                 \n",
            " flatten_9 (Flatten)         (None, 6272)              0         \n",
            "                                                                 \n",
            " dense_27 (Dense)            (None, 256)               1605888   \n",
            "                                                                 \n",
            " batch_normalization_66 (Bat  (None, 256)              1024      \n",
            " chNormalization)                                                \n",
            "                                                                 \n",
            " dropout_18 (Dropout)        (None, 256)               0         \n",
            "                                                                 \n",
            " dense_28 (Dense)            (None, 256)               65792     \n",
            "                                                                 \n",
            " batch_normalization_67 (Bat  (None, 256)              1024      \n",
            " chNormalization)                                                \n",
            "                                                                 \n",
            " dropout_19 (Dropout)        (None, 256)               0         \n",
            "                                                                 \n",
            " dense_29 (Dense)            (None, 5)                 1285      \n",
            "                                                                 \n",
            "=================================================================\n",
            "Total params: 2,556,533\n",
            "Trainable params: 2,554,549\n",
            "Non-trainable params: 1,984\n",
            "_________________________________________________________________\n"
          ]
        }
      ],
      "source": [
        "conv_3d4=ModelConv3D4()\n",
        "conv_3d4.initialize_path(project_folder)\n",
        "conv_3d4.initialize_image_properties(image_height=120,image_width=120)\n",
        "conv_3d4.initialize_hyperparams(frames_to_sample=16,batch_size=20,num_epochs=25)\n",
        "conv_3d4_model=conv_3d4.define_model(filtersize=(3,3,3),dense_neurons=256,dropout=0.5)\n",
        "conv_3d4_model.summary()"
      ]
    },
    {
      "cell_type": "code",
      "execution_count": null,
      "metadata": {
        "colab": {
          "base_uri": "https://localhost:8080/"
        },
        "id": "waBTBFg5iVOM",
        "outputId": "413bb385-f62e-4059-e3e8-7716dc04765e"
      },
      "outputs": [
        {
          "name": "stdout",
          "output_type": "stream",
          "text": [
            "Total Params: 2556533\n",
            "WARNING:tensorflow:`period` argument is deprecated. Please use `save_freq` to specify the frequency in number of batches seen.\n"
          ]
        },
        {
          "name": "stderr",
          "output_type": "stream",
          "text": [
            "/usr/local/lib/python3.7/dist-packages/ipykernel_launcher.py:127: UserWarning: `Model.fit_generator` is deprecated and will be removed in a future version. Please use `Model.fit`, which supports generators.\n"
          ]
        },
        {
          "name": "stdout",
          "output_type": "stream",
          "text": [
            "Epoch 1/25\n",
            "34/34 [==============================] - ETA: 0s - loss: 1.9557 - categorical_accuracy: 0.3718\n",
            "Epoch 1: val_loss improved from inf to 2.50191, saving model to model_init_2022-05-0810_57_27.207914/model-00001-1.95572-0.37179-2.50191-0.21000.h5\n",
            "34/34 [==============================] - 251s 7s/step - loss: 1.9557 - categorical_accuracy: 0.3718 - val_loss: 2.5019 - val_categorical_accuracy: 0.2100 - lr: 0.0010\n",
            "Epoch 2/25\n",
            "34/34 [==============================] - ETA: 0s - loss: 1.5212 - categorical_accuracy: 0.4834\n",
            "Epoch 2: val_loss did not improve from 2.50191\n",
            "34/34 [==============================] - 249s 8s/step - loss: 1.5212 - categorical_accuracy: 0.4834 - val_loss: 5.2955 - val_categorical_accuracy: 0.2200 - lr: 0.0010\n",
            "Epoch 3/25\n",
            "34/34 [==============================] - ETA: 0s - loss: 1.2912 - categorical_accuracy: 0.5528\n",
            "Epoch 3: val_loss did not improve from 2.50191\n",
            "34/34 [==============================] - 248s 8s/step - loss: 1.2912 - categorical_accuracy: 0.5528 - val_loss: 6.4391 - val_categorical_accuracy: 0.2000 - lr: 0.0010\n",
            "Epoch 4/25\n",
            "34/34 [==============================] - ETA: 0s - loss: 1.2144 - categorical_accuracy: 0.5694\n",
            "Epoch 4: val_loss did not improve from 2.50191\n",
            "34/34 [==============================] - 245s 7s/step - loss: 1.2144 - categorical_accuracy: 0.5694 - val_loss: 4.4867 - val_categorical_accuracy: 0.2000 - lr: 0.0010\n",
            "Epoch 5/25\n",
            "34/34 [==============================] - ETA: 0s - loss: 1.0319 - categorical_accuracy: 0.6290\n",
            "Epoch 5: val_loss did not improve from 2.50191\n",
            "\n",
            "Epoch 5: ReduceLROnPlateau reducing learning rate to 0.00020000000949949026.\n",
            "34/34 [==============================] - 247s 7s/step - loss: 1.0319 - categorical_accuracy: 0.6290 - val_loss: 5.9651 - val_categorical_accuracy: 0.2200 - lr: 0.0010\n",
            "Epoch 6/25\n",
            "34/34 [==============================] - ETA: 0s - loss: 0.8836 - categorical_accuracy: 0.6795\n",
            "Epoch 6: val_loss did not improve from 2.50191\n",
            "34/34 [==============================] - 244s 7s/step - loss: 0.8836 - categorical_accuracy: 0.6795 - val_loss: 5.5776 - val_categorical_accuracy: 0.2100 - lr: 2.0000e-04\n",
            "Epoch 7/25\n",
            "34/34 [==============================] - ETA: 0s - loss: 0.7789 - categorical_accuracy: 0.7044\n",
            "Epoch 7: val_loss did not improve from 2.50191\n",
            "34/34 [==============================] - 245s 7s/step - loss: 0.7789 - categorical_accuracy: 0.7044 - val_loss: 5.6937 - val_categorical_accuracy: 0.2200 - lr: 2.0000e-04\n",
            "Epoch 8/25\n",
            "34/34 [==============================] - ETA: 0s - loss: 0.6927 - categorical_accuracy: 0.7466\n",
            "Epoch 8: val_loss did not improve from 2.50191\n",
            "34/34 [==============================] - 245s 7s/step - loss: 0.6927 - categorical_accuracy: 0.7466 - val_loss: 5.3532 - val_categorical_accuracy: 0.2100 - lr: 2.0000e-04\n",
            "Epoch 9/25\n",
            "34/34 [==============================] - ETA: 0s - loss: 0.6943 - categorical_accuracy: 0.7504\n",
            "Epoch 9: val_loss did not improve from 2.50191\n",
            "\n",
            "Epoch 9: ReduceLROnPlateau reducing learning rate to 4.0000001899898055e-05.\n",
            "34/34 [==============================] - 245s 7s/step - loss: 0.6943 - categorical_accuracy: 0.7504 - val_loss: 5.1729 - val_categorical_accuracy: 0.2400 - lr: 2.0000e-04\n",
            "Epoch 10/25\n",
            "34/34 [==============================] - ETA: 0s - loss: 0.6295 - categorical_accuracy: 0.7647\n",
            "Epoch 10: val_loss did not improve from 2.50191\n",
            "34/34 [==============================] - 245s 7s/step - loss: 0.6295 - categorical_accuracy: 0.7647 - val_loss: 4.7860 - val_categorical_accuracy: 0.2400 - lr: 4.0000e-05\n",
            "Epoch 11/25\n",
            "34/34 [==============================] - ETA: 0s - loss: 0.5939 - categorical_accuracy: 0.7700\n",
            "Epoch 11: val_loss did not improve from 2.50191\n",
            "34/34 [==============================] - 246s 7s/step - loss: 0.5939 - categorical_accuracy: 0.7700 - val_loss: 4.0486 - val_categorical_accuracy: 0.2500 - lr: 4.0000e-05\n",
            "Epoch 11: early stopping\n"
          ]
        }
      ],
      "source": [
        "print(\"Total Params:\", conv_3d4_model.count_params())\n",
        "history_model4=conv_3d4.train_model(conv_3d4_model,augment_data=True)"
      ]
    },
    {
      "cell_type": "code",
      "execution_count": null,
      "metadata": {
        "colab": {
          "base_uri": "https://localhost:8080/",
          "height": 265
        },
        "id": "VhSCR4T_iVQo",
        "outputId": "68eade37-b50e-46f5-ea97-264b9e869949"
      },
      "outputs": [
        {
          "data": {
            "image/png": "[encoded data removed]",
            "text/plain": [
              "<Figure size 1080x288 with 2 Axes>"
            ]
          },
          "metadata": {},
          "output_type": "display_data"
        }
      ],
      "source": [
        "plot(history_model4)"
      ]
    },
    {
      "cell_type": "markdown",
      "metadata": {
        "id": "2EpvejYcfULt"
      },
      "source": [
        "## Model 5 - CNN- LSTM Model"
      ]
    },
    {
      "cell_type": "code",
      "execution_count": null,
      "metadata": {
        "id": "EfnTQpAHiVTf"
      },
      "outputs": [],
      "source": [
        "class RNNCNN1(ModelBuilder):\n",
        "    \n",
        "    def define_model(self,lstm_cells=64,dense_neurons=64,dropout=0.25):\n",
        "\n",
        "        model = Sequential()\n",
        "\n",
        "        model.add(TimeDistributed(Conv2D(16, (3, 3) , padding='same', activation='relu'),\n",
        "                                  input_shape=(self.frames_to_sample,self.image_height,self.image_width,self.channels)))\n",
        "        model.add(TimeDistributed(BatchNormalization()))\n",
        "        model.add(TimeDistributed(MaxPooling2D((2, 2))))\n",
        "        \n",
        "        model.add(TimeDistributed(Conv2D(32, (3, 3) , padding='same', activation='relu')))\n",
        "        model.add(TimeDistributed(BatchNormalization()))\n",
        "        model.add(TimeDistributed(MaxPooling2D((2, 2))))\n",
        "        \n",
        "        model.add(TimeDistributed(Conv2D(64, (3, 3) , padding='same', activation='relu')))\n",
        "        model.add(TimeDistributed(BatchNormalization()))\n",
        "        model.add(TimeDistributed(MaxPooling2D((2, 2))))\n",
        "        \n",
        "        model.add(TimeDistributed(Conv2D(128, (3, 3) , padding='same', activation='relu')))\n",
        "        model.add(TimeDistributed(BatchNormalization()))\n",
        "        model.add(TimeDistributed(MaxPooling2D((2, 2))))\n",
        "        \n",
        "        model.add(TimeDistributed(Conv2D(256, (3, 3) , padding='same', activation='relu')))\n",
        "        model.add(TimeDistributed(BatchNormalization()))\n",
        "        model.add(TimeDistributed(MaxPooling2D((2, 2))))\n",
        "        \n",
        "        #model.add(TimeDistributed(Conv2D(512, (2, 2) , padding='valid', activation='relu')))\n",
        "       # model.add(TimeDistributed(BatchNormalization()))\n",
        "       # model.add(TimeDistributed(MaxPooling2D((2, 2))))\n",
        "\n",
        "        model.add(TimeDistributed(Flatten()))\n",
        "\n",
        "\n",
        "        model.add(LSTM(lstm_cells))\n",
        "        model.add(Dropout(dropout))\n",
        "        \n",
        "        model.add(Dense(dense_neurons,activation='relu'))\n",
        "        model.add(Dropout(dropout))\n",
        "        \n",
        "        model.add(Dense(self.num_classes, activation='softmax'))\n",
        "        optimiser = Adam()\n",
        "        model.compile(optimizer=optimiser, loss='categorical_crossentropy', metrics=['categorical_accuracy'])\n",
        "        return model"
      ]
    },
    {
      "cell_type": "code",
      "execution_count": null,
      "metadata": {
        "colab": {
          "base_uri": "https://localhost:8080/"
        },
        "id": "V-nBAslkiVWe",
        "outputId": "8e4566b7-3ba9-4e47-d400-740c47a7d0a2"
      },
      "outputs": [
        {
          "name": "stdout",
          "output_type": "stream",
          "text": [
            "Model: \"sequential_11\"\n",
            "_________________________________________________________________\n",
            " Layer (type)                Output Shape              Param #   \n",
            "=================================================================\n",
            " time_distributed (TimeDistr  (None, 18, 120, 120, 16)  448      \n",
            " ibuted)                                                         \n",
            "                                                                 \n",
            " time_distributed_1 (TimeDis  (None, 18, 120, 120, 16)  64       \n",
            " tributed)                                                       \n",
            "                                                                 \n",
            " time_distributed_2 (TimeDis  (None, 18, 60, 60, 16)   0         \n",
            " tributed)                                                       \n",
            "                                                                 \n",
            " time_distributed_3 (TimeDis  (None, 18, 60, 60, 32)   4640      \n",
            " tributed)                                                       \n",
            "                                                                 \n",
            " time_distributed_4 (TimeDis  (None, 18, 60, 60, 32)   128       \n",
            " tributed)                                                       \n",
            "                                                                 \n",
            " time_distributed_5 (TimeDis  (None, 18, 30, 30, 32)   0         \n",
            " tributed)                                                       \n",
            "                                                                 \n",
            " time_distributed_6 (TimeDis  (None, 18, 30, 30, 64)   18496     \n",
            " tributed)                                                       \n",
            "                                                                 \n",
            " time_distributed_7 (TimeDis  (None, 18, 30, 30, 64)   256       \n",
            " tributed)                                                       \n",
            "                                                                 \n",
            " time_distributed_8 (TimeDis  (None, 18, 15, 15, 64)   0         \n",
            " tributed)                                                       \n",
            "                                                                 \n",
            " time_distributed_9 (TimeDis  (None, 18, 15, 15, 128)  73856     \n",
            " tributed)                                                       \n",
            "                                                                 \n",
            " time_distributed_10 (TimeDi  (None, 18, 15, 15, 128)  512       \n",
            " stributed)                                                      \n",
            "                                                                 \n",
            " time_distributed_11 (TimeDi  (None, 18, 7, 7, 128)    0         \n",
            " stributed)                                                      \n",
            "                                                                 \n",
            " time_distributed_12 (TimeDi  (None, 18, 7, 7, 256)    295168    \n",
            " stributed)                                                      \n",
            "                                                                 \n",
            " time_distributed_13 (TimeDi  (None, 18, 7, 7, 256)    1024      \n",
            " stributed)                                                      \n",
            "                                                                 \n",
            " time_distributed_14 (TimeDi  (None, 18, 3, 3, 256)    0         \n",
            " stributed)                                                      \n",
            "                                                                 \n",
            " time_distributed_15 (TimeDi  (None, 18, 2304)         0         \n",
            " stributed)                                                      \n",
            "                                                                 \n",
            " lstm (LSTM)                 (None, 128)               1245696   \n",
            "                                                                 \n",
            " dropout_20 (Dropout)        (None, 128)               0         \n",
            "                                                                 \n",
            " dense_30 (Dense)            (None, 128)               16512     \n",
            "                                                                 \n",
            " dropout_21 (Dropout)        (None, 128)               0         \n",
            "                                                                 \n",
            " dense_31 (Dense)            (None, 5)                 645       \n",
            "                                                                 \n",
            "=================================================================\n",
            "Total params: 1,657,445\n",
            "Trainable params: 1,656,453\n",
            "Non-trainable params: 992\n",
            "_________________________________________________________________\n"
          ]
        }
      ],
      "source": [
        "rnn_cnn1=RNNCNN1()\n",
        "rnn_cnn1.initialize_path(project_folder)\n",
        "rnn_cnn1.initialize_image_properties(image_height=120,image_width=120)\n",
        "rnn_cnn1.initialize_hyperparams(frames_to_sample=18,batch_size=20,num_epochs=20)\n",
        "rnn_cnn1_model=rnn_cnn1.define_model(lstm_cells=128,dense_neurons=128,dropout=0.25)\n",
        "rnn_cnn1_model.summary()"
      ]
    },
    {
      "cell_type": "code",
      "execution_count": null,
      "metadata": {
        "colab": {
          "base_uri": "https://localhost:8080/"
        },
        "id": "7sEe4xDmiVZe",
        "outputId": "ba53fcf1-0aab-4654-c2c7-5021cab7aed4"
      },
      "outputs": [
        {
          "name": "stdout",
          "output_type": "stream",
          "text": [
            "Total Params: 1657445\n",
            "WARNING:tensorflow:`period` argument is deprecated. Please use `save_freq` to specify the frequency in number of batches seen.\n"
          ]
        },
        {
          "name": "stderr",
          "output_type": "stream",
          "text": [
            "/usr/local/lib/python3.7/dist-packages/ipykernel_launcher.py:127: UserWarning: `Model.fit_generator` is deprecated and will be removed in a future version. Please use `Model.fit`, which supports generators.\n"
          ]
        },
        {
          "name": "stdout",
          "output_type": "stream",
          "text": [
            "Epoch 1/20\n",
            "34/34 [==============================] - ETA: 0s - loss: 1.4433 - categorical_accuracy: 0.3605\n",
            "Epoch 1: val_loss improved from inf to 1.59553, saving model to model_init_2022-05-0811_46_35.370300/model-00001-1.44325-0.36048-1.59553-0.19000.h5\n",
            "34/34 [==============================] - 281s 8s/step - loss: 1.4433 - categorical_accuracy: 0.3605 - val_loss: 1.5955 - val_categorical_accuracy: 0.1900 - lr: 0.0010\n",
            "Epoch 2/20\n",
            "34/34 [==============================] - ETA: 0s - loss: 1.0853 - categorical_accuracy: 0.5807\n",
            "Epoch 2: val_loss did not improve from 1.59553\n",
            "34/34 [==============================] - 273s 8s/step - loss: 1.0853 - categorical_accuracy: 0.5807 - val_loss: 1.8715 - val_categorical_accuracy: 0.2200 - lr: 0.0010\n",
            "Epoch 3/20\n",
            "34/34 [==============================] - ETA: 0s - loss: 0.9565 - categorical_accuracy: 0.6207\n",
            "Epoch 3: val_loss did not improve from 1.59553\n",
            "34/34 [==============================] - 276s 8s/step - loss: 0.9565 - categorical_accuracy: 0.6207 - val_loss: 2.2464 - val_categorical_accuracy: 0.1900 - lr: 0.0010\n",
            "Epoch 4/20\n",
            "34/34 [==============================] - ETA: 0s - loss: 0.8261 - categorical_accuracy: 0.6833\n",
            "Epoch 4: val_loss did not improve from 1.59553\n",
            "34/34 [==============================] - 275s 8s/step - loss: 0.8261 - categorical_accuracy: 0.6833 - val_loss: 1.8821 - val_categorical_accuracy: 0.2500 - lr: 0.0010\n",
            "Epoch 5/20\n",
            "34/34 [==============================] - ETA: 0s - loss: 0.7221 - categorical_accuracy: 0.7232\n",
            "Epoch 5: val_loss did not improve from 1.59553\n",
            "\n",
            "Epoch 5: ReduceLROnPlateau reducing learning rate to 0.00020000000949949026.\n",
            "34/34 [==============================] - 265s 8s/step - loss: 0.7221 - categorical_accuracy: 0.7232 - val_loss: 1.7348 - val_categorical_accuracy: 0.2700 - lr: 0.0010\n",
            "Epoch 6/20\n",
            "34/34 [==============================] - ETA: 0s - loss: 0.5182 - categorical_accuracy: 0.8084\n",
            "Epoch 6: val_loss did not improve from 1.59553\n",
            "34/34 [==============================] - 268s 8s/step - loss: 0.5182 - categorical_accuracy: 0.8084 - val_loss: 1.8568 - val_categorical_accuracy: 0.2500 - lr: 2.0000e-04\n",
            "Epoch 7/20\n",
            "34/34 [==============================] - ETA: 0s - loss: 0.4463 - categorical_accuracy: 0.8311\n",
            "Epoch 7: val_loss did not improve from 1.59553\n",
            "34/34 [==============================] - 275s 8s/step - loss: 0.4463 - categorical_accuracy: 0.8311 - val_loss: 1.8229 - val_categorical_accuracy: 0.3100 - lr: 2.0000e-04\n",
            "Epoch 8/20\n",
            "34/34 [==============================] - ETA: 0s - loss: 0.3828 - categorical_accuracy: 0.8522\n",
            "Epoch 8: val_loss did not improve from 1.59553\n",
            "34/34 [==============================] - 276s 8s/step - loss: 0.3828 - categorical_accuracy: 0.8522 - val_loss: 1.8998 - val_categorical_accuracy: 0.2400 - lr: 2.0000e-04\n",
            "Epoch 9/20\n",
            "34/34 [==============================] - ETA: 0s - loss: 0.3213 - categorical_accuracy: 0.8906\n",
            "Epoch 9: val_loss did not improve from 1.59553\n",
            "\n",
            "Epoch 9: ReduceLROnPlateau reducing learning rate to 4.0000001899898055e-05.\n",
            "34/34 [==============================] - 268s 8s/step - loss: 0.3213 - categorical_accuracy: 0.8906 - val_loss: 1.8839 - val_categorical_accuracy: 0.2800 - lr: 2.0000e-04\n",
            "Epoch 10/20\n",
            "34/34 [==============================] - ETA: 0s - loss: 0.2725 - categorical_accuracy: 0.9012\n",
            "Epoch 10: val_loss did not improve from 1.59553\n",
            "34/34 [==============================] - 265s 8s/step - loss: 0.2725 - categorical_accuracy: 0.9012 - val_loss: 1.8916 - val_categorical_accuracy: 0.3400 - lr: 4.0000e-05\n",
            "Epoch 11/20\n",
            "34/34 [==============================] - ETA: 0s - loss: 0.2520 - categorical_accuracy: 0.9238\n",
            "Epoch 11: val_loss did not improve from 1.59553\n",
            "34/34 [==============================] - 268s 8s/step - loss: 0.2520 - categorical_accuracy: 0.9238 - val_loss: 1.7850 - val_categorical_accuracy: 0.4000 - lr: 4.0000e-05\n",
            "Epoch 11: early stopping\n"
          ]
        }
      ],
      "source": [
        "print(\"Total Params:\", rnn_cnn1_model.count_params())\n",
        "history_model8=rnn_cnn1.train_model(rnn_cnn1_model,augment_data=True)"
      ]
    },
    {
      "cell_type": "code",
      "execution_count": null,
      "metadata": {
        "colab": {
          "base_uri": "https://localhost:8080/",
          "height": 265
        },
        "id": "xPFavETdiVcV",
        "outputId": "f614801a-b013-4d3d-ae38-523a79a3e128"
      },
      "outputs": [
        {
          "data": {
            "image/png": "[encoded data removed]",
            "text/plain": [
              "<Figure size 1080x288 with 2 Axes>"
            ]
          },
          "metadata": {},
          "output_type": "display_data"
        }
      ],
      "source": [
        "plot(history_model8)"
      ]
    },
    {
      "cell_type": "markdown",
      "metadata": {
        "id": "RLMYDnHysu6s"
      },
      "source": [
        "### Data Augmentation"
      ]
    },
    {
      "cell_type": "code",
      "execution_count": 26,
      "metadata": {
        "id": "byTx4QSbiVfE"
      },
      "outputs": [],
      "source": [
        "class ModelBuilderMoreAugmentation(metaclass= abc.ABCMeta):\n",
        "    \n",
        "    def initialize_path(self,project_folder):\n",
        "        self.train_doc = np.random.permutation(open(project_folder + '/' + 'train.csv').readlines())\n",
        "        self.val_doc = np.random.permutation(open(project_folder + '/' + 'val.csv').readlines())\n",
        "        self.train_path = project_folder + '/' + 'train'\n",
        "        self.val_path =  project_folder + '/' + 'val'\n",
        "        self.num_train_sequences = len(self.train_doc)\n",
        "        self.num_val_sequences = len(self.val_doc)\n",
        "        \n",
        "    def initialize_image_properties(self,image_height=100,image_width=100):\n",
        "        self.image_height=image_height\n",
        "        self.image_width=image_width\n",
        "        self.channels=3\n",
        "        self.num_classes=5\n",
        "        self.total_frames=30\n",
        "          \n",
        "    def initialize_hyperparams(self,frames_to_sample=30,batch_size=20,num_epochs=20):\n",
        "        self.frames_to_sample=frames_to_sample\n",
        "        self.batch_size=batch_size\n",
        "        self.num_epochs=num_epochs\n",
        "        \n",
        "        \n",
        "    def generator(self,source_path, folder_list, augment=False):\n",
        "        img_idx = np.round(np.linspace(0,self.total_frames-1,self.frames_to_sample)).astype(int)\n",
        "        batch_size=self.batch_size\n",
        "        while True:\n",
        "            t = np.random.permutation(folder_list)\n",
        "            num_batches = len(t)//batch_size\n",
        "        \n",
        "            for batch in range(num_batches): \n",
        "                batch_data, batch_labels= self.one_batch_data(source_path,t,batch,batch_size,img_idx,augment)\n",
        "                yield batch_data, batch_labels \n",
        "\n",
        "            remaining_seq=len(t)%batch_size\n",
        "        \n",
        "            if (remaining_seq != 0):\n",
        "                batch_data, batch_labels= self.one_batch_data(source_path,t,num_batches,batch_size,img_idx,augment,remaining_seq)\n",
        "                yield batch_data, batch_labels \n",
        "    \n",
        "    \n",
        "    def one_batch_data(self,source_path,t,batch,batch_size,img_idx,augment,remaining_seq=0):\n",
        "    \n",
        "        seq_len = remaining_seq if remaining_seq else batch_size\n",
        "    \n",
        "        batch_data = np.zeros((seq_len,len(img_idx),self.image_height,self.image_width,self.channels)) \n",
        "        batch_labels = np.zeros((seq_len,self.num_classes)) \n",
        "    \n",
        "        if (augment): batch_data_aug = np.zeros((seq_len,len(img_idx),self.image_height,self.image_width,self.channels))\n",
        "\n",
        "        \n",
        "        for folder in range(seq_len): \n",
        "            imgs = os.listdir(source_path+'/'+ t[folder + (batch*batch_size)].split(';')[0]) \n",
        "            for idx,item in enumerate(img_idx): \n",
        "                image = imread(source_path+'/'+ t[folder + (batch*batch_size)].strip().split(';')[0]+'/'+imgs[item]).astype(np.float32)\n",
        "                image_resized=resize(image,(self.image_height,self.image_width,3))\n",
        "            \n",
        "\n",
        "                batch_data[folder,idx,:,:,0] = (image_resized[:,:,0])/255\n",
        "                batch_data[folder,idx,:,:,1] = (image_resized[:,:,1])/255\n",
        "                batch_data[folder,idx,:,:,2] = (image_resized[:,:,2])/255\n",
        "            \n",
        "                if (augment):\n",
        "                    shifted = cv2.warpAffine(image, \n",
        "                                             np.float32([[1, 0, np.random.randint(-30,30)],[0, 1, np.random.randint(-30,30)]]), \n",
        "                                            (image.shape[1], image.shape[0]))\n",
        "                    \n",
        "                    gray = cv2.cvtColor(shifted,cv2.COLOR_BGR2GRAY)\n",
        "\n",
        "                    x0, y0 = np.argwhere(gray > 0).min(axis=0)\n",
        "                    x1, y1 = np.argwhere(gray > 0).max(axis=0) \n",
        "                    \n",
        "                    cropped=shifted[x0:x1,y0:y1,:]\n",
        "                    \n",
        "                    image_resized=resize(cropped,(self.image_height,self.image_width,3))\n",
        "                    \n",
        "                    M = cv2.getRotationMatrix2D((self.image_width//2,self.image_height//2),\n",
        "                                                np.random.randint(-10,10), 1.0)\n",
        "                    rotated = cv2.warpAffine(image_resized, M, (self.image_width, self.image_height))\n",
        "                    \n",
        "                    #shifted = cv2.warpAffine(image_resized, \n",
        "                    #                        np.float32([[1, 0, np.random.randint(-3,3)],[0, 1, np.random.randint(-3,3)]]), \n",
        "                    #                        (image_resized.shape[1], image_resized.shape[0]))\n",
        "            \n",
        "                    batch_data_aug[folder,idx,:,:,0] = (rotated[:,:,0])/255\n",
        "                    batch_data_aug[folder,idx,:,:,1] = (rotated[:,:,1])/255\n",
        "                    batch_data_aug[folder,idx,:,:,2] = (rotated[:,:,2])/255\n",
        "                \n",
        "            \n",
        "            batch_labels[folder, int(t[folder + (batch*batch_size)].strip().split(';')[2])] = 1\n",
        "            \n",
        "    \n",
        "        if (augment):\n",
        "            batch_data=np.concatenate([batch_data,batch_data_aug])\n",
        "            batch_labels=np.concatenate([batch_labels,batch_labels])\n",
        "\n",
        "        \n",
        "        return(batch_data,batch_labels)\n",
        "    \n",
        "    \n",
        "    def train_model(self, model, augment_data=False):\n",
        "        train_generator = self.generator(self.train_path, self.train_doc,augment=augment_data)\n",
        "        val_generator = self.generator(self.val_path, self.val_doc)\n",
        "\n",
        "        model_name = 'model_init' + '_' + str(datetime.datetime.now()).replace(' ','').replace(':','_') + '/'\n",
        "    \n",
        "        if not os.path.exists(model_name):\n",
        "            os.mkdir(model_name)\n",
        "        \n",
        "        filepath = model_name + 'model-{epoch:05d}-{loss:.5f}-{categorical_accuracy:.5f}-{val_loss:.5f}-{val_categorical_accuracy:.5f}.h5'\n",
        "\n",
        "        checkpoint = ModelCheckpoint(filepath, monitor='val_loss', verbose=1, save_best_only=False, save_weights_only=False, mode='auto', period=1)\n",
        "        LR = ReduceLROnPlateau(monitor='val_loss', factor=0.2, verbose=1, patience=4)\n",
        "        callbacks_list = [checkpoint, LR]\n",
        "\n",
        "        if (self.num_train_sequences%self.batch_size) == 0:\n",
        "            steps_per_epoch = int(self.num_train_sequences/self.batch_size)\n",
        "        else:\n",
        "            steps_per_epoch = (self.num_train_sequences//self.batch_size) + 1\n",
        "\n",
        "        if (self.num_val_sequences%self.batch_size) == 0:\n",
        "            validation_steps = int(self.num_val_sequences/self.batch_size)\n",
        "        else:\n",
        "            validation_steps = (self.num_val_sequences//self.batch_size) + 1\n",
        "    \n",
        "        history=model.fit_generator(train_generator, steps_per_epoch=steps_per_epoch, epochs=self.num_epochs, verbose=1, \n",
        "                            callbacks=callbacks_list, validation_data=val_generator, \n",
        "                            validation_steps=validation_steps, class_weight=None, workers=1, initial_epoch=0)\n",
        "        return history\n",
        "\n",
        "        \n",
        "    @abc.abstractmethod\n",
        "    def define_model(self):\n",
        "        pass"
      ]
    },
    {
      "cell_type": "code",
      "execution_count": 27,
      "metadata": {
        "colab": {
          "base_uri": "https://localhost:8080/",
          "height": 221
        },
        "id": "huO-ihYkiViG",
        "outputId": "6dfad126-f3ee-495e-f82c-f41b9ee6ec9f"
      },
      "outputs": [
        {
          "output_type": "execute_result",
          "data": {
            "text/plain": [
              "<matplotlib.image.AxesImage at 0x7f5be7a35950>"
            ]
          },
          "metadata": {},
          "execution_count": 27
        },
        {
          "output_type": "display_data",
          "data": {
            "text/plain": [
              "<Figure size 432x288 with 2 Axes>"
            ],
            "image/png": "[encoded data removed]"
          },
          "metadata": {
            "needs_background": "light"
          }
        }
      ],
      "source": [
        "class Test(ModelBuilderMoreAugmentation):\n",
        "    def define_model(self):\n",
        "        pass\n",
        "\n",
        "test_generator=Test()\n",
        "test_generator.initialize_path(project_folder)\n",
        "test_generator.initialize_image_properties(image_height=160,image_width=160)\n",
        "test_generator.initialize_hyperparams(frames_to_sample=30,batch_size=3,num_epochs=1)\n",
        "\n",
        "g=test_generator.generator(test_generator.val_path,test_generator.val_doc,augment=True)\n",
        "batch_data, batch_labels=next(g)\n",
        "fig, axes = plt.subplots(nrows=1, ncols=2)\n",
        "axes[0].imshow(batch_data[0,29,:,:,:])   \n",
        "axes[1].imshow(batch_data[3,29,:,:,:])   "
      ]
    },
    {
      "cell_type": "markdown",
      "metadata": {
        "id": "oZldgfiDtKif"
      },
      "source": [
        "## Model 6 with Augmentation\n",
        "## (2,2,2) Filter & 120x120 Image resolution - similar to Model 3"
      ]
    },
    {
      "cell_type": "code",
      "execution_count": null,
      "metadata": {
        "id": "U1L-zQuliVlL"
      },
      "outputs": [],
      "source": [
        "class ModelConv3D10(ModelBuilderMoreAugmentation):\n",
        "    \n",
        "    def define_model(self,filtersize=(3,3,3),dense_neurons=64,dropout=0.25):\n",
        "\n",
        "        model = Sequential()\n",
        "        model.add(Conv3D(16, filtersize, padding='same',\n",
        "                 input_shape=(self.frames_to_sample,self.image_height,self.image_width,self.channels)))\n",
        "        model.add(Activation('relu'))\n",
        "        model.add(BatchNormalization())\n",
        "        model.add(MaxPooling3D(pool_size=(2, 2, 2)))\n",
        "\n",
        "        model.add(Conv3D(32, filtersize, padding='same'))\n",
        "        model.add(Activation('relu'))\n",
        "        model.add(BatchNormalization())\n",
        "        model.add(MaxPooling3D(pool_size=(2, 2, 2)))\n",
        "\n",
        "        model.add(Conv3D(64, filtersize, padding='same'))\n",
        "        model.add(Activation('relu'))\n",
        "        model.add(BatchNormalization())\n",
        "        model.add(MaxPooling3D(pool_size=(2, 2, 2)))\n",
        "\n",
        "        model.add(Conv3D(128, filtersize, padding='same'))\n",
        "        model.add(Activation('relu'))\n",
        "        model.add(BatchNormalization())\n",
        "        model.add(MaxPooling3D(pool_size=(2, 2, 2)))\n",
        "\n",
        "        model.add(Flatten())\n",
        "        model.add(Dense(dense_neurons,activation='relu'))\n",
        "        model.add(BatchNormalization())\n",
        "        model.add(Dropout(dropout))\n",
        "\n",
        "        model.add(Dense(dense_neurons,activation='relu'))\n",
        "        model.add(BatchNormalization())\n",
        "        model.add(Dropout(dropout))\n",
        "\n",
        "\n",
        "        model.add(Dense(self.num_classes,activation='softmax'))\n",
        "\n",
        "        optimiser = Adam(learning_rate=0.0002)\n",
        "        model.compile(optimizer=optimiser, loss='categorical_crossentropy', metrics=['categorical_accuracy'])\n",
        "        return model"
      ]
    },
    {
      "cell_type": "code",
      "execution_count": null,
      "metadata": {
        "colab": {
          "base_uri": "https://localhost:8080/"
        },
        "id": "Y06JvxPyiVn3",
        "outputId": "3d68975e-1bf2-4188-ee8d-e0528c6a02e5"
      },
      "outputs": [
        {
          "name": "stdout",
          "output_type": "stream",
          "text": [
            "Model: \"sequential_13\"\n",
            "_________________________________________________________________\n",
            " Layer (type)                Output Shape              Param #   \n",
            "=================================================================\n",
            " conv3d_52 (Conv3D)          (None, 16, 120, 120, 16)  400       \n",
            "                                                                 \n",
            " activation_52 (Activation)  (None, 16, 120, 120, 16)  0         \n",
            "                                                                 \n",
            " batch_normalization_79 (Bat  (None, 16, 120, 120, 16)  64       \n",
            " chNormalization)                                                \n",
            "                                                                 \n",
            " max_pooling3d_48 (MaxPoolin  (None, 8, 60, 60, 16)    0         \n",
            " g3D)                                                            \n",
            "                                                                 \n",
            " conv3d_53 (Conv3D)          (None, 8, 60, 60, 32)     4128      \n",
            "                                                                 \n",
            " activation_53 (Activation)  (None, 8, 60, 60, 32)     0         \n",
            "                                                                 \n",
            " batch_normalization_80 (Bat  (None, 8, 60, 60, 32)    128       \n",
            " chNormalization)                                                \n",
            "                                                                 \n",
            " max_pooling3d_49 (MaxPoolin  (None, 4, 30, 30, 32)    0         \n",
            " g3D)                                                            \n",
            "                                                                 \n",
            " conv3d_54 (Conv3D)          (None, 4, 30, 30, 64)     16448     \n",
            "                                                                 \n",
            " activation_54 (Activation)  (None, 4, 30, 30, 64)     0         \n",
            "                                                                 \n",
            " batch_normalization_81 (Bat  (None, 4, 30, 30, 64)    256       \n",
            " chNormalization)                                                \n",
            "                                                                 \n",
            " max_pooling3d_50 (MaxPoolin  (None, 2, 15, 15, 64)    0         \n",
            " g3D)                                                            \n",
            "                                                                 \n",
            " conv3d_55 (Conv3D)          (None, 2, 15, 15, 128)    65664     \n",
            "                                                                 \n",
            " activation_55 (Activation)  (None, 2, 15, 15, 128)    0         \n",
            "                                                                 \n",
            " batch_normalization_82 (Bat  (None, 2, 15, 15, 128)   512       \n",
            " chNormalization)                                                \n",
            "                                                                 \n",
            " max_pooling3d_51 (MaxPoolin  (None, 1, 7, 7, 128)     0         \n",
            " g3D)                                                            \n",
            "                                                                 \n",
            " flatten_12 (Flatten)        (None, 6272)              0         \n",
            "                                                                 \n",
            " dense_35 (Dense)            (None, 256)               1605888   \n",
            "                                                                 \n",
            " batch_normalization_83 (Bat  (None, 256)              1024      \n",
            " chNormalization)                                                \n",
            "                                                                 \n",
            " dropout_24 (Dropout)        (None, 256)               0         \n",
            "                                                                 \n",
            " dense_36 (Dense)            (None, 256)               65792     \n",
            "                                                                 \n",
            " batch_normalization_84 (Bat  (None, 256)              1024      \n",
            " chNormalization)                                                \n",
            "                                                                 \n",
            " dropout_25 (Dropout)        (None, 256)               0         \n",
            "                                                                 \n",
            " dense_37 (Dense)            (None, 5)                 1285      \n",
            "                                                                 \n",
            "=================================================================\n",
            "Total params: 1,762,613\n",
            "Trainable params: 1,761,109\n",
            "Non-trainable params: 1,504\n",
            "_________________________________________________________________\n"
          ]
        }
      ],
      "source": [
        "conv_3d10=ModelConv3D10()\n",
        "conv_3d10.initialize_path(project_folder)\n",
        "conv_3d10.initialize_image_properties(image_height=120,image_width=120)\n",
        "conv_3d10.initialize_hyperparams(frames_to_sample=16,batch_size=30,num_epochs=25)\n",
        "conv_3d10_model=conv_3d10.define_model(filtersize=(2,2,2),dense_neurons=256,dropout=0.5)\n",
        "conv_3d10_model.summary()"
      ]
    },
    {
      "cell_type": "code",
      "execution_count": null,
      "metadata": {
        "colab": {
          "base_uri": "https://localhost:8080/"
        },
        "id": "a6Ftpx48iVqs",
        "outputId": "557f7621-e517-4fae-a28d-47d8bb5327d6"
      },
      "outputs": [
        {
          "name": "stdout",
          "output_type": "stream",
          "text": [
            "Total Params: 1762613\n",
            "WARNING:tensorflow:`period` argument is deprecated. Please use `save_freq` to specify the frequency in number of batches seen.\n"
          ]
        },
        {
          "name": "stderr",
          "output_type": "stream",
          "text": [
            "/usr/local/lib/python3.7/dist-packages/ipykernel_launcher.py:128: UserWarning: `Model.fit_generator` is deprecated and will be removed in a future version. Please use `Model.fit`, which supports generators.\n"
          ]
        },
        {
          "name": "stdout",
          "output_type": "stream",
          "text": [
            "Epoch 1/25\n",
            "23/23 [==============================] - ETA: 0s - loss: 1.8035 - categorical_accuracy: 0.4065 \n",
            "Epoch 1: saving model to model_init_2022-05-0812_49_18.132237/model-00001-1.80350-0.40649-1.82799-0.25000.h5\n",
            "23/23 [==============================] - 246s 11s/step - loss: 1.8035 - categorical_accuracy: 0.4065 - val_loss: 1.8280 - val_categorical_accuracy: 0.2500 - lr: 2.0000e-04\n",
            "Epoch 2/25\n",
            "23/23 [==============================] - ETA: 0s - loss: 1.3391 - categorical_accuracy: 0.5422\n",
            "Epoch 2: saving model to model_init_2022-05-0812_49_18.132237/model-00002-1.33905-0.54223-2.80037-0.14000.h5\n",
            "23/23 [==============================] - 236s 11s/step - loss: 1.3391 - categorical_accuracy: 0.5422 - val_loss: 2.8004 - val_categorical_accuracy: 0.1400 - lr: 2.0000e-04\n",
            "Epoch 3/25\n",
            "23/23 [==============================] - ETA: 0s - loss: 1.2161 - categorical_accuracy: 0.5633 \n",
            "Epoch 3: saving model to model_init_2022-05-0812_49_18.132237/model-00003-1.21615-0.56335-3.74239-0.16000.h5\n",
            "23/23 [==============================] - 243s 11s/step - loss: 1.2161 - categorical_accuracy: 0.5633 - val_loss: 3.7424 - val_categorical_accuracy: 0.1600 - lr: 2.0000e-04\n",
            "Epoch 4/25\n",
            "23/23 [==============================] - ETA: 0s - loss: 1.0906 - categorical_accuracy: 0.6154\n",
            "Epoch 4: saving model to model_init_2022-05-0812_49_18.132237/model-00004-1.09058-0.61538-4.64060-0.17000.h5\n",
            "23/23 [==============================] - 228s 10s/step - loss: 1.0906 - categorical_accuracy: 0.6154 - val_loss: 4.6406 - val_categorical_accuracy: 0.1700 - lr: 2.0000e-04\n",
            "Epoch 5/25\n",
            "23/23 [==============================] - ETA: 0s - loss: 0.9204 - categorical_accuracy: 0.6606\n",
            "Epoch 5: saving model to model_init_2022-05-0812_49_18.132237/model-00005-0.92041-0.66063-5.38569-0.22000.h5\n",
            "\n",
            "Epoch 5: ReduceLROnPlateau reducing learning rate to 3.9999998989515007e-05.\n",
            "23/23 [==============================] - 240s 11s/step - loss: 0.9204 - categorical_accuracy: 0.6606 - val_loss: 5.3857 - val_categorical_accuracy: 0.2200 - lr: 2.0000e-04\n",
            "Epoch 6/25\n",
            "23/23 [==============================] - ETA: 0s - loss: 0.8735 - categorical_accuracy: 0.6923 \n",
            "Epoch 6: saving model to model_init_2022-05-0812_49_18.132237/model-00006-0.87351-0.69231-5.21931-0.27000.h5\n",
            "23/23 [==============================] - 249s 11s/step - loss: 0.8735 - categorical_accuracy: 0.6923 - val_loss: 5.2193 - val_categorical_accuracy: 0.2700 - lr: 4.0000e-05\n",
            "Epoch 7/25\n",
            "23/23 [==============================] - ETA: 0s - loss: 0.8789 - categorical_accuracy: 0.7014 \n",
            "Epoch 7: saving model to model_init_2022-05-0812_49_18.132237/model-00007-0.87892-0.70136-6.26807-0.23000.h5\n",
            "23/23 [==============================] - 248s 11s/step - loss: 0.8789 - categorical_accuracy: 0.7014 - val_loss: 6.2681 - val_categorical_accuracy: 0.2300 - lr: 4.0000e-05\n",
            "Epoch 8/25\n",
            "23/23 [==============================] - ETA: 0s - loss: 0.7590 - categorical_accuracy: 0.7172 \n",
            "Epoch 8: saving model to model_init_2022-05-0812_49_18.132237/model-00008-0.75904-0.71719-6.84464-0.20000.h5\n",
            "23/23 [==============================] - 236s 11s/step - loss: 0.7590 - categorical_accuracy: 0.7172 - val_loss: 6.8446 - val_categorical_accuracy: 0.2000 - lr: 4.0000e-05\n",
            "Epoch 9/25\n",
            "23/23 [==============================] - ETA: 0s - loss: 0.8016 - categorical_accuracy: 0.7255\n",
            "Epoch 9: saving model to model_init_2022-05-0812_49_18.132237/model-00009-0.80157-0.72549-7.28278-0.21000.h5\n",
            "\n",
            "Epoch 9: ReduceLROnPlateau reducing learning rate to 7.999999797903002e-06.\n",
            "23/23 [==============================] - 238s 11s/step - loss: 0.8016 - categorical_accuracy: 0.7255 - val_loss: 7.2828 - val_categorical_accuracy: 0.2100 - lr: 4.0000e-05\n",
            "Epoch 10/25\n",
            "23/23 [==============================] - ETA: 0s - loss: 0.7873 - categorical_accuracy: 0.7179 \n",
            "Epoch 10: saving model to model_init_2022-05-0812_49_18.132237/model-00010-0.78729-0.71795-7.11117-0.22000.h5\n",
            "23/23 [==============================] - 247s 11s/step - loss: 0.7873 - categorical_accuracy: 0.7179 - val_loss: 7.1112 - val_categorical_accuracy: 0.2200 - lr: 8.0000e-06\n",
            "Epoch 11/25\n",
            "23/23 [==============================] - ETA: 0s - loss: 0.8047 - categorical_accuracy: 0.7066 \n",
            "Epoch 11: saving model to model_init_2022-05-0812_49_18.132237/model-00011-0.80467-0.70664-8.08259-0.22000.h5\n",
            "23/23 [==============================] - 246s 11s/step - loss: 0.8047 - categorical_accuracy: 0.7066 - val_loss: 8.0826 - val_categorical_accuracy: 0.2200 - lr: 8.0000e-06\n",
            "Epoch 12/25\n",
            "23/23 [==============================] - ETA: 0s - loss: 0.8028 - categorical_accuracy: 0.7285 \n",
            "Epoch 12: saving model to model_init_2022-05-0812_49_18.132237/model-00012-0.80278-0.72851-7.75401-0.27000.h5\n",
            "23/23 [==============================] - 241s 11s/step - loss: 0.8028 - categorical_accuracy: 0.7285 - val_loss: 7.7540 - val_categorical_accuracy: 0.2700 - lr: 8.0000e-06\n",
            "Epoch 13/25\n",
            "23/23 [==============================] - ETA: 0s - loss: 0.7535 - categorical_accuracy: 0.7097 \n",
            "Epoch 13: saving model to model_init_2022-05-0812_49_18.132237/model-00013-0.75349-0.70965-7.08700-0.27000.h5\n",
            "\n",
            "Epoch 13: ReduceLROnPlateau reducing learning rate to 1.5999999959603884e-06.\n",
            "23/23 [==============================] - 250s 11s/step - loss: 0.7535 - categorical_accuracy: 0.7097 - val_loss: 7.0870 - val_categorical_accuracy: 0.2700 - lr: 8.0000e-06\n",
            "Epoch 14/25\n",
            "23/23 [==============================] - ETA: 0s - loss: 0.7937 - categorical_accuracy: 0.7164 \n",
            "Epoch 14: saving model to model_init_2022-05-0812_49_18.132237/model-00014-0.79371-0.71644-6.40777-0.30000.h5\n",
            "23/23 [==============================] - 243s 11s/step - loss: 0.7937 - categorical_accuracy: 0.7164 - val_loss: 6.4078 - val_categorical_accuracy: 0.3000 - lr: 1.6000e-06\n",
            "Epoch 15/25\n",
            "23/23 [==============================] - ETA: 0s - loss: 0.7659 - categorical_accuracy: 0.7187 \n",
            "Epoch 15: saving model to model_init_2022-05-0812_49_18.132237/model-00015-0.76591-0.71870-6.16904-0.27000.h5\n",
            "23/23 [==============================] - 248s 11s/step - loss: 0.7659 - categorical_accuracy: 0.7187 - val_loss: 6.1690 - val_categorical_accuracy: 0.2700 - lr: 1.6000e-06\n",
            "Epoch 16/25\n",
            "23/23 [==============================] - ETA: 0s - loss: 0.7200 - categorical_accuracy: 0.7270 \n",
            "Epoch 16: saving model to model_init_2022-05-0812_49_18.132237/model-00016-0.72001-0.72700-5.74342-0.28000.h5\n",
            "23/23 [==============================] - 246s 11s/step - loss: 0.7200 - categorical_accuracy: 0.7270 - val_loss: 5.7434 - val_categorical_accuracy: 0.2800 - lr: 1.6000e-06\n",
            "Epoch 17/25\n",
            "23/23 [==============================] - ETA: 0s - loss: 0.7911 - categorical_accuracy: 0.7157 \n",
            "Epoch 17: saving model to model_init_2022-05-0812_49_18.132237/model-00017-0.79113-0.71569-5.00012-0.28000.h5\n",
            "\n",
            "Epoch 17: ReduceLROnPlateau reducing learning rate to 3.200000037395512e-07.\n",
            "23/23 [==============================] - 250s 11s/step - loss: 0.7911 - categorical_accuracy: 0.7157 - val_loss: 5.0001 - val_categorical_accuracy: 0.2800 - lr: 1.6000e-06\n",
            "Epoch 18/25\n",
            "23/23 [==============================] - ETA: 0s - loss: 0.8279 - categorical_accuracy: 0.7142 \n",
            "Epoch 18: saving model to model_init_2022-05-0812_49_18.132237/model-00018-0.82785-0.71418-4.22254-0.30000.h5\n",
            "23/23 [==============================] - 250s 11s/step - loss: 0.8279 - categorical_accuracy: 0.7142 - val_loss: 4.2225 - val_categorical_accuracy: 0.3000 - lr: 3.2000e-07\n",
            "Epoch 19/25\n",
            "23/23 [==============================] - ETA: 0s - loss: 0.7854 - categorical_accuracy: 0.7217 \n",
            "Epoch 19: saving model to model_init_2022-05-0812_49_18.132237/model-00019-0.78536-0.72172-3.22604-0.41000.h5\n",
            "23/23 [==============================] - 257s 12s/step - loss: 0.7854 - categorical_accuracy: 0.7217 - val_loss: 3.2260 - val_categorical_accuracy: 0.4100 - lr: 3.2000e-07\n",
            "Epoch 20/25\n",
            "23/23 [==============================] - ETA: 0s - loss: 0.8447 - categorical_accuracy: 0.7021 \n",
            "Epoch 20: saving model to model_init_2022-05-0812_49_18.132237/model-00020-0.84474-0.70211-3.04858-0.39000.h5\n",
            "23/23 [==============================] - 242s 11s/step - loss: 0.8447 - categorical_accuracy: 0.7021 - val_loss: 3.0486 - val_categorical_accuracy: 0.3900 - lr: 3.2000e-07\n",
            "Epoch 21/25\n",
            "23/23 [==============================] - ETA: 0s - loss: 0.8306 - categorical_accuracy: 0.7006 \n",
            "Epoch 21: saving model to model_init_2022-05-0812_49_18.132237/model-00021-0.83062-0.70060-2.78931-0.40000.h5\n",
            "\n",
            "Epoch 21: ReduceLROnPlateau reducing learning rate to 6.399999961104187e-08.\n",
            "23/23 [==============================] - 246s 11s/step - loss: 0.8306 - categorical_accuracy: 0.7006 - val_loss: 2.7893 - val_categorical_accuracy: 0.4000 - lr: 3.2000e-07\n",
            "Epoch 22/25\n",
            "23/23 [==============================] - ETA: 0s - loss: 0.8096 - categorical_accuracy: 0.7021\n",
            "Epoch 22: saving model to model_init_2022-05-0812_49_18.132237/model-00022-0.80963-0.70211-2.35159-0.37000.h5\n",
            "23/23 [==============================] - 238s 11s/step - loss: 0.8096 - categorical_accuracy: 0.7021 - val_loss: 2.3516 - val_categorical_accuracy: 0.3700 - lr: 6.4000e-08\n",
            "Epoch 23/25\n",
            "23/23 [==============================] - ETA: 0s - loss: 0.7787 - categorical_accuracy: 0.7036 \n",
            "Epoch 23: saving model to model_init_2022-05-0812_49_18.132237/model-00023-0.77865-0.70362-2.10010-0.45000.h5\n",
            "23/23 [==============================] - 246s 11s/step - loss: 0.7787 - categorical_accuracy: 0.7036 - val_loss: 2.1001 - val_categorical_accuracy: 0.4500 - lr: 6.4000e-08\n",
            "Epoch 24/25\n",
            "23/23 [==============================] - ETA: 0s - loss: 0.7818 - categorical_accuracy: 0.7036 \n",
            "Epoch 24: saving model to model_init_2022-05-0812_49_18.132237/model-00024-0.78181-0.70362-1.69308-0.48000.h5\n",
            "23/23 [==============================] - 237s 11s/step - loss: 0.7818 - categorical_accuracy: 0.7036 - val_loss: 1.6931 - val_categorical_accuracy: 0.4800 - lr: 6.4000e-08\n",
            "Epoch 25/25\n",
            "23/23 [==============================] - ETA: 0s - loss: 0.7408 - categorical_accuracy: 0.7278\n",
            "Epoch 25: saving model to model_init_2022-05-0812_49_18.132237/model-00025-0.74084-0.72775-1.47988-0.54000.h5\n",
            "23/23 [==============================] - 237s 11s/step - loss: 0.7408 - categorical_accuracy: 0.7278 - val_loss: 1.4799 - val_categorical_accuracy: 0.5400 - lr: 6.4000e-08\n"
          ]
        }
      ],
      "source": [
        "print(\"Total Params:\", conv_3d10_model.count_params())\n",
        "history_model10=conv_3d10.train_model(conv_3d10_model,augment_data=True)"
      ]
    },
    {
      "cell_type": "code",
      "execution_count": null,
      "metadata": {
        "colab": {
          "base_uri": "https://localhost:8080/",
          "height": 265
        },
        "id": "9Ttoy76XiVtl",
        "outputId": "8e3fdb06-50f7-40d1-dc04-55fb8eebe6f9"
      },
      "outputs": [
        {
          "data": {
            "image/png": "[encoded data removed]",
            "text/plain": [
              "<Figure size 1080x288 with 2 Axes>"
            ]
          },
          "metadata": {},
          "output_type": "display_data"
        }
      ],
      "source": [
        "plot(history_model10)"
      ]
    },
    {
      "cell_type": "markdown",
      "metadata": {
        "id": "95VgQGrhHTRc"
      },
      "source": [
        "## Model 7 with Augmentation - Reducing network parameters"
      ]
    },
    {
      "cell_type": "code",
      "execution_count": null,
      "metadata": {
        "id": "Jo0SXo2_iVwp"
      },
      "outputs": [],
      "source": [
        "class ModelConv3D14(ModelBuilderMoreAugmentation):\n",
        "    \n",
        "    def define_model(self,dense_neurons=64,dropout=0.25):\n",
        "\n",
        "        model = Sequential()\n",
        "        model.add(Conv3D(16, (3, 3, 3), padding='same',\n",
        "                 input_shape=(self.frames_to_sample,self.image_height,self.image_width,self.channels)))\n",
        "        model.add(Activation('relu'))\n",
        "        model.add(BatchNormalization())\n",
        "        model.add(MaxPooling3D(pool_size=(2, 2, 2)))\n",
        "\n",
        "        model.add(Conv3D(32, (3, 3, 3), padding='same'))\n",
        "        model.add(Activation('relu'))\n",
        "        model.add(BatchNormalization())\n",
        "        model.add(MaxPooling3D(pool_size=(2, 2, 2)))\n",
        "\n",
        "        model.add(Conv3D(64, (2, 2, 2), padding='same'))\n",
        "        model.add(Activation('relu'))\n",
        "        model.add(BatchNormalization())\n",
        "        model.add(MaxPooling3D(pool_size=(2, 2, 2)))\n",
        "\n",
        "        model.add(Conv3D(128, (2, 2, 2), padding='same'))\n",
        "        model.add(Activation('relu'))\n",
        "        model.add(BatchNormalization())\n",
        "        model.add(MaxPooling3D(pool_size=(2, 2, 2)))\n",
        "        \n",
        "        model.add(Flatten())\n",
        "        model.add(Dense(dense_neurons,activation='relu'))\n",
        "        model.add(BatchNormalization())\n",
        "        model.add(Dropout(dropout))\n",
        "\n",
        "        model.add(Dense(dense_neurons,activation='relu'))\n",
        "        model.add(BatchNormalization())\n",
        "        model.add(Dropout(dropout))\n",
        "\n",
        "        model.add(Dense(self.num_classes,activation='softmax'))\n",
        "\n",
        "        optimiser = Adam(learning_rate=0.0002)\n",
        "        model.compile(optimizer=optimiser, loss='categorical_crossentropy', metrics=['categorical_accuracy'])\n",
        "        return model"
      ]
    },
    {
      "cell_type": "code",
      "execution_count": null,
      "metadata": {
        "colab": {
          "base_uri": "https://localhost:8080/"
        },
        "id": "04urK5YtiVzk",
        "outputId": "c7da29e0-e460-46b0-86d4-827a801fe9f4"
      },
      "outputs": [
        {
          "name": "stdout",
          "output_type": "stream",
          "text": [
            "Model: \"sequential_2\"\n",
            "_________________________________________________________________\n",
            " Layer (type)                Output Shape              Param #   \n",
            "=================================================================\n",
            " conv3d_4 (Conv3D)           (None, 16, 120, 120, 16)  1312      \n",
            "                                                                 \n",
            " activation_4 (Activation)   (None, 16, 120, 120, 16)  0         \n",
            "                                                                 \n",
            " batch_normalization_6 (Batc  (None, 16, 120, 120, 16)  64       \n",
            " hNormalization)                                                 \n",
            "                                                                 \n",
            " max_pooling3d_4 (MaxPooling  (None, 8, 60, 60, 16)    0         \n",
            " 3D)                                                             \n",
            "                                                                 \n",
            " conv3d_5 (Conv3D)           (None, 8, 60, 60, 32)     13856     \n",
            "                                                                 \n",
            " activation_5 (Activation)   (None, 8, 60, 60, 32)     0         \n",
            "                                                                 \n",
            " batch_normalization_7 (Batc  (None, 8, 60, 60, 32)    128       \n",
            " hNormalization)                                                 \n",
            "                                                                 \n",
            " max_pooling3d_5 (MaxPooling  (None, 4, 30, 30, 32)    0         \n",
            " 3D)                                                             \n",
            "                                                                 \n",
            " conv3d_6 (Conv3D)           (None, 4, 30, 30, 64)     16448     \n",
            "                                                                 \n",
            " activation_6 (Activation)   (None, 4, 30, 30, 64)     0         \n",
            "                                                                 \n",
            " batch_normalization_8 (Batc  (None, 4, 30, 30, 64)    256       \n",
            " hNormalization)                                                 \n",
            "                                                                 \n",
            " max_pooling3d_6 (MaxPooling  (None, 2, 15, 15, 64)    0         \n",
            " 3D)                                                             \n",
            "                                                                 \n",
            " conv3d_7 (Conv3D)           (None, 2, 15, 15, 128)    65664     \n",
            "                                                                 \n",
            " activation_7 (Activation)   (None, 2, 15, 15, 128)    0         \n",
            "                                                                 \n",
            " batch_normalization_9 (Batc  (None, 2, 15, 15, 128)   512       \n",
            " hNormalization)                                                 \n",
            "                                                                 \n",
            " max_pooling3d_7 (MaxPooling  (None, 1, 7, 7, 128)     0         \n",
            " 3D)                                                             \n",
            "                                                                 \n",
            " flatten_1 (Flatten)         (None, 6272)              0         \n",
            "                                                                 \n",
            " dense_3 (Dense)             (None, 64)                401472    \n",
            "                                                                 \n",
            " batch_normalization_10 (Bat  (None, 64)               256       \n",
            " chNormalization)                                                \n",
            "                                                                 \n",
            " dropout_2 (Dropout)         (None, 64)                0         \n",
            "                                                                 \n",
            " dense_4 (Dense)             (None, 64)                4160      \n",
            "                                                                 \n",
            " batch_normalization_11 (Bat  (None, 64)               256       \n",
            " chNormalization)                                                \n",
            "                                                                 \n",
            " dropout_3 (Dropout)         (None, 64)                0         \n",
            "                                                                 \n",
            " dense_5 (Dense)             (None, 5)                 325       \n",
            "                                                                 \n",
            "=================================================================\n",
            "Total params: 504,709\n",
            "Trainable params: 503,973\n",
            "Non-trainable params: 736\n",
            "_________________________________________________________________\n"
          ]
        }
      ],
      "source": [
        "conv_3d14=ModelConv3D14()\n",
        "conv_3d14.initialize_path(project_folder)\n",
        "conv_3d14.initialize_image_properties(image_height=120,image_width=120)\n",
        "conv_3d14.initialize_hyperparams(frames_to_sample=16,batch_size=20,num_epochs=25)\n",
        "conv_3d14_model=conv_3d14.define_model(dense_neurons=64,dropout=0.25)\n",
        "conv_3d14_model.summary()"
      ]
    },
    {
      "cell_type": "code",
      "execution_count": null,
      "metadata": {
        "colab": {
          "base_uri": "https://localhost:8080/"
        },
        "id": "qVq5KWuLiV2w",
        "outputId": "236390d3-211c-45ec-8f39-556412d557a2"
      },
      "outputs": [
        {
          "name": "stdout",
          "output_type": "stream",
          "text": [
            "Total Params: 504709\n",
            "WARNING:tensorflow:`period` argument is deprecated. Please use `save_freq` to specify the frequency in number of batches seen.\n"
          ]
        },
        {
          "name": "stderr",
          "output_type": "stream",
          "text": [
            "/usr/local/lib/python3.7/dist-packages/ipykernel_launcher.py:128: UserWarning: `Model.fit_generator` is deprecated and will be removed in a future version. Please use `Model.fit`, which supports generators.\n"
          ]
        },
        {
          "name": "stdout",
          "output_type": "stream",
          "text": [
            "Epoch 1/25\n",
            "34/34 [==============================] - ETA: 0s - loss: 1.7373 - categorical_accuracy: 0.3703  \n",
            "Epoch 1: saving model to model_init_2022-05-1005_57_19.015476/model-00001-1.73734-0.37029-1.87886-0.16000.h5\n",
            "34/34 [==============================] - 4140s 125s/step - loss: 1.7373 - categorical_accuracy: 0.3703 - val_loss: 1.8789 - val_categorical_accuracy: 0.1600 - lr: 2.0000e-04\n",
            "Epoch 2/25\n",
            "34/34 [==============================] - ETA: 0s - loss: 1.2545 - categorical_accuracy: 0.5339\n",
            "Epoch 2: saving model to model_init_2022-05-1005_57_19.015476/model-00002-1.25453-0.53394-2.28005-0.18000.h5\n",
            "34/34 [==============================] - 196s 6s/step - loss: 1.2545 - categorical_accuracy: 0.5339 - val_loss: 2.2800 - val_categorical_accuracy: 0.1800 - lr: 2.0000e-04\n",
            "Epoch 3/25\n",
            "34/34 [==============================] - ETA: 0s - loss: 1.0498 - categorical_accuracy: 0.6048\n",
            "Epoch 3: saving model to model_init_2022-05-1005_57_19.015476/model-00003-1.04979-0.60483-3.44070-0.10000.h5\n",
            "34/34 [==============================] - 196s 6s/step - loss: 1.0498 - categorical_accuracy: 0.6048 - val_loss: 3.4407 - val_categorical_accuracy: 0.1000 - lr: 2.0000e-04\n",
            "Epoch 4/25\n",
            "34/34 [==============================] - ETA: 0s - loss: 0.9894 - categorical_accuracy: 0.6207\n",
            "Epoch 4: saving model to model_init_2022-05-1005_57_19.015476/model-00004-0.98938-0.62066-3.68342-0.17000.h5\n",
            "34/34 [==============================] - 191s 6s/step - loss: 0.9894 - categorical_accuracy: 0.6207 - val_loss: 3.6834 - val_categorical_accuracy: 0.1700 - lr: 2.0000e-04\n",
            "Epoch 5/25\n",
            "34/34 [==============================] - ETA: 0s - loss: 0.8451 - categorical_accuracy: 0.6614\n",
            "Epoch 5: saving model to model_init_2022-05-1005_57_19.015476/model-00005-0.84511-0.66139-4.73270-0.27000.h5\n",
            "\n",
            "Epoch 5: ReduceLROnPlateau reducing learning rate to 3.9999998989515007e-05.\n",
            "34/34 [==============================] - 192s 6s/step - loss: 0.8451 - categorical_accuracy: 0.6614 - val_loss: 4.7327 - val_categorical_accuracy: 0.2700 - lr: 2.0000e-04\n",
            "Epoch 6/25\n",
            "34/34 [==============================] - ETA: 0s - loss: 0.7722 - categorical_accuracy: 0.7119\n",
            "Epoch 6: saving model to model_init_2022-05-1005_57_19.015476/model-00006-0.77219-0.71192-5.37214-0.28000.h5\n",
            "34/34 [==============================] - 198s 6s/step - loss: 0.7722 - categorical_accuracy: 0.7119 - val_loss: 5.3721 - val_categorical_accuracy: 0.2800 - lr: 4.0000e-05\n",
            "Epoch 7/25\n",
            "34/34 [==============================] - ETA: 0s - loss: 0.7751 - categorical_accuracy: 0.7074\n",
            "Epoch 7: saving model to model_init_2022-05-1005_57_19.015476/model-00007-0.77515-0.70739-5.77000-0.22000.h5\n",
            "34/34 [==============================] - 204s 6s/step - loss: 0.7751 - categorical_accuracy: 0.7074 - val_loss: 5.7700 - val_categorical_accuracy: 0.2200 - lr: 4.0000e-05\n",
            "Epoch 8/25\n",
            "34/34 [==============================] - ETA: 0s - loss: 0.7303 - categorical_accuracy: 0.7202\n",
            "Epoch 8: saving model to model_init_2022-05-1005_57_19.015476/model-00008-0.73028-0.72021-5.87941-0.24000.h5\n",
            "34/34 [==============================] - 193s 6s/step - loss: 0.7303 - categorical_accuracy: 0.7202 - val_loss: 5.8794 - val_categorical_accuracy: 0.2400 - lr: 4.0000e-05\n",
            "Epoch 9/25\n",
            "34/34 [==============================] - ETA: 0s - loss: 0.6980 - categorical_accuracy: 0.7293\n",
            "Epoch 9: saving model to model_init_2022-05-1005_57_19.015476/model-00009-0.69802-0.72926-5.46169-0.18000.h5\n",
            "\n",
            "Epoch 9: ReduceLROnPlateau reducing learning rate to 7.999999797903002e-06.\n",
            "34/34 [==============================] - 196s 6s/step - loss: 0.6980 - categorical_accuracy: 0.7293 - val_loss: 5.4617 - val_categorical_accuracy: 0.1800 - lr: 4.0000e-05\n",
            "Epoch 10/25\n",
            "34/34 [==============================] - ETA: 0s - loss: 0.6633 - categorical_accuracy: 0.7572\n",
            "Epoch 10: saving model to model_init_2022-05-1005_57_19.015476/model-00010-0.66331-0.75716-4.26796-0.27000.h5\n",
            "34/34 [==============================] - 193s 6s/step - loss: 0.6633 - categorical_accuracy: 0.7572 - val_loss: 4.2680 - val_categorical_accuracy: 0.2700 - lr: 8.0000e-06\n",
            "Epoch 11/25\n",
            "34/34 [==============================] - ETA: 0s - loss: 0.6339 - categorical_accuracy: 0.7640\n",
            "Epoch 11: saving model to model_init_2022-05-1005_57_19.015476/model-00011-0.63385-0.76395-3.62183-0.22000.h5\n",
            "34/34 [==============================] - 191s 6s/step - loss: 0.6339 - categorical_accuracy: 0.7640 - val_loss: 3.6218 - val_categorical_accuracy: 0.2200 - lr: 8.0000e-06\n",
            "Epoch 12/25\n",
            "34/34 [==============================] - ETA: 0s - loss: 0.6663 - categorical_accuracy: 0.7496\n",
            "Epoch 12: saving model to model_init_2022-05-1005_57_19.015476/model-00012-0.66633-0.74962-2.95402-0.24000.h5\n",
            "34/34 [==============================] - 193s 6s/step - loss: 0.6663 - categorical_accuracy: 0.7496 - val_loss: 2.9540 - val_categorical_accuracy: 0.2400 - lr: 8.0000e-06\n",
            "Epoch 13/25\n",
            "34/34 [==============================] - ETA: 0s - loss: 0.6109 - categorical_accuracy: 0.7730\n",
            "Epoch 13: saving model to model_init_2022-05-1005_57_19.015476/model-00013-0.61093-0.77300-2.46140-0.31000.h5\n",
            "\n",
            "Epoch 13: ReduceLROnPlateau reducing learning rate to 1.5999999959603884e-06.\n",
            "34/34 [==============================] - 194s 6s/step - loss: 0.6109 - categorical_accuracy: 0.7730 - val_loss: 2.4614 - val_categorical_accuracy: 0.3100 - lr: 8.0000e-06\n",
            "Epoch 14/25\n",
            "34/34 [==============================] - ETA: 0s - loss: 0.6755 - categorical_accuracy: 0.7413\n",
            "Epoch 14: saving model to model_init_2022-05-1005_57_19.015476/model-00014-0.67546-0.74133-1.92066-0.38000.h5\n",
            "34/34 [==============================] - 193s 6s/step - loss: 0.6755 - categorical_accuracy: 0.7413 - val_loss: 1.9207 - val_categorical_accuracy: 0.3800 - lr: 1.6000e-06\n",
            "Epoch 15/25\n",
            "34/34 [==============================] - ETA: 0s - loss: 0.6740 - categorical_accuracy: 0.7436\n",
            "Epoch 15: saving model to model_init_2022-05-1005_57_19.015476/model-00015-0.67400-0.74359-1.63398-0.43000.h5\n",
            "34/34 [==============================] - 189s 6s/step - loss: 0.6740 - categorical_accuracy: 0.7436 - val_loss: 1.6340 - val_categorical_accuracy: 0.4300 - lr: 1.6000e-06\n",
            "Epoch 16/25\n",
            "34/34 [==============================] - ETA: 0s - loss: 0.6512 - categorical_accuracy: 0.7466\n",
            "Epoch 16: saving model to model_init_2022-05-1005_57_19.015476/model-00016-0.65121-0.74661-1.34772-0.51000.h5\n",
            "34/34 [==============================] - 196s 6s/step - loss: 0.6512 - categorical_accuracy: 0.7466 - val_loss: 1.3477 - val_categorical_accuracy: 0.5100 - lr: 1.6000e-06\n",
            "Epoch 17/25\n",
            "34/34 [==============================] - ETA: 0s - loss: 0.6088 - categorical_accuracy: 0.7722\n",
            "Epoch 17: saving model to model_init_2022-05-1005_57_19.015476/model-00017-0.60878-0.77225-1.14547-0.57000.h5\n",
            "34/34 [==============================] - 191s 6s/step - loss: 0.6088 - categorical_accuracy: 0.7722 - val_loss: 1.1455 - val_categorical_accuracy: 0.5700 - lr: 1.6000e-06\n",
            "Epoch 18/25\n",
            "34/34 [==============================] - ETA: 0s - loss: 0.6516 - categorical_accuracy: 0.7579\n",
            "Epoch 18: saving model to model_init_2022-05-1005_57_19.015476/model-00018-0.65161-0.75792-1.08769-0.60000.h5\n",
            "34/34 [==============================] - 195s 6s/step - loss: 0.6516 - categorical_accuracy: 0.7579 - val_loss: 1.0877 - val_categorical_accuracy: 0.6000 - lr: 1.6000e-06\n",
            "Epoch 19/25\n",
            "34/34 [==============================] - ETA: 0s - loss: 0.6184 - categorical_accuracy: 0.7677\n",
            "Epoch 19: saving model to model_init_2022-05-1005_57_19.015476/model-00019-0.61841-0.76772-0.84825-0.72000.h5\n",
            "34/34 [==============================] - 188s 6s/step - loss: 0.6184 - categorical_accuracy: 0.7677 - val_loss: 0.8483 - val_categorical_accuracy: 0.7200 - lr: 1.6000e-06\n",
            "Epoch 20/25\n",
            "34/34 [==============================] - ETA: 0s - loss: 0.6647 - categorical_accuracy: 0.7594\n",
            "Epoch 20: saving model to model_init_2022-05-1005_57_19.015476/model-00020-0.66471-0.75943-0.69956-0.74000.h5\n",
            "34/34 [==============================] - 194s 6s/step - loss: 0.6647 - categorical_accuracy: 0.7594 - val_loss: 0.6996 - val_categorical_accuracy: 0.7400 - lr: 1.6000e-06\n",
            "Epoch 21/25\n",
            "34/34 [==============================] - ETA: 0s - loss: 0.6615 - categorical_accuracy: 0.7474\n",
            "Epoch 21: saving model to model_init_2022-05-1005_57_19.015476/model-00021-0.66146-0.74736-0.70068-0.76000.h5\n",
            "34/34 [==============================] - 191s 6s/step - loss: 0.6615 - categorical_accuracy: 0.7474 - val_loss: 0.7007 - val_categorical_accuracy: 0.7600 - lr: 1.6000e-06\n",
            "Epoch 22/25\n",
            "34/34 [==============================] - ETA: 0s - loss: 0.6317 - categorical_accuracy: 0.7519\n",
            "Epoch 22: saving model to model_init_2022-05-1005_57_19.015476/model-00022-0.63173-0.75189-0.62102-0.80000.h5\n",
            "34/34 [==============================] - 189s 6s/step - loss: 0.6317 - categorical_accuracy: 0.7519 - val_loss: 0.6210 - val_categorical_accuracy: 0.8000 - lr: 1.6000e-06\n",
            "Epoch 23/25\n",
            "34/34 [==============================] - ETA: 0s - loss: 0.6329 - categorical_accuracy: 0.7707\n",
            "Epoch 23: saving model to model_init_2022-05-1005_57_19.015476/model-00023-0.63292-0.77074-0.70761-0.75000.h5\n",
            "34/34 [==============================] - 209s 6s/step - loss: 0.6329 - categorical_accuracy: 0.7707 - val_loss: 0.7076 - val_categorical_accuracy: 0.7500 - lr: 1.6000e-06\n",
            "Epoch 24/25\n",
            "34/34 [==============================] - ETA: 0s - loss: 0.6088 - categorical_accuracy: 0.7730\n",
            "Epoch 24: saving model to model_init_2022-05-1005_57_19.015476/model-00024-0.60877-0.77300-0.49415-0.81000.h5\n",
            "34/34 [==============================] - 206s 6s/step - loss: 0.6088 - categorical_accuracy: 0.7730 - val_loss: 0.4941 - val_categorical_accuracy: 0.8100 - lr: 1.6000e-06\n",
            "Epoch 25/25\n",
            "34/34 [==============================] - ETA: 0s - loss: 0.6345 - categorical_accuracy: 0.7640\n",
            "Epoch 25: saving model to model_init_2022-05-1005_57_19.015476/model-00025-0.63455-0.76395-0.57463-0.80000.h5\n",
            "34/34 [==============================] - 199s 6s/step - loss: 0.6345 - categorical_accuracy: 0.7640 - val_loss: 0.5746 - val_categorical_accuracy: 0.8000 - lr: 1.6000e-06\n"
          ]
        }
      ],
      "source": [
        "print(\"Total Params:\", conv_3d14_model.count_params())\n",
        "history_model14=conv_3d14.train_model(conv_3d14_model,augment_data=True)"
      ]
    },
    {
      "cell_type": "code",
      "execution_count": null,
      "metadata": {
        "colab": {
          "base_uri": "https://localhost:8080/",
          "height": 265
        },
        "id": "K45k7inKiV54",
        "outputId": "21e34e7e-e2d8-41ee-95bb-45a0796208ce"
      },
      "outputs": [
        {
          "data": {
            "image/png": "[encoded data removed]",
            "text/plain": [
              "<Figure size 1080x288 with 2 Axes>"
            ]
          },
          "metadata": {},
          "output_type": "display_data"
        }
      ],
      "source": [
        "plot(history_model14)"
      ]
    },
    {
      "cell_type": "markdown",
      "metadata": {
        "id": "nMIwNPRoftOz"
      },
      "source": [
        "### Model 8 Transfer Learning with GRU and training all weights"
      ]
    },
    {
      "cell_type": "code",
      "execution_count": 28,
      "metadata": {
        "colab": {
          "base_uri": "https://localhost:8080/"
        },
        "id": "1wtwd7NyiV9h",
        "outputId": "e86fe17b-bb47-4bd8-bd51-29ef50318ad7"
      },
      "outputs": [
        {
          "output_type": "stream",
          "name": "stdout",
          "text": [
            "WARNING:tensorflow:`input_shape` is undefined or non-square, or `rows` is not in [128, 160, 192, 224]. Weights for input shape (224, 224) will be loaded as the default.\n",
            "Downloading data from https://storage.googleapis.com/tensorflow/keras-applications/mobilenet/mobilenet_1_0_224_tf_no_top.h5\n",
            "17227776/17225924 [==============================] - 0s 0us/step\n",
            "17235968/17225924 [==============================] - 0s 0us/step\n"
          ]
        }
      ],
      "source": [
        "from keras.applications import mobilenet\n",
        "\n",
        "mobilenet_transfer = mobilenet.MobileNet(weights='imagenet', include_top=False)\n",
        "\n",
        "class RNNCNN_TL2(ModelBuilderMoreAugmentation):\n",
        "    \n",
        "    def define_model(self,gru_cells=64,dense_neurons=64,dropout=0.25):\n",
        "        \n",
        "        model = Sequential()\n",
        "        model.add(TimeDistributed(mobilenet_transfer,input_shape=(self.frames_to_sample,self.image_height,self.image_width,self.channels)))\n",
        " \n",
        "        \n",
        "        model.add(TimeDistributed(BatchNormalization()))\n",
        "        model.add(TimeDistributed(MaxPooling2D((2, 2))))\n",
        "        model.add(TimeDistributed(Flatten()))\n",
        "\n",
        "        model.add(GRU(gru_cells))\n",
        "        model.add(Dropout(dropout))\n",
        "        \n",
        "        model.add(Dense(dense_neurons,activation='elu'))\n",
        "        model.add(Dropout(dropout))\n",
        "        \n",
        "        model.add(Dense(self.num_classes, activation='softmax'))\n",
        "        \n",
        "        \n",
        "        optimiser = Adam()\n",
        "        model.compile(optimizer=optimiser, loss='categorical_crossentropy', metrics=['categorical_accuracy'])\n",
        "        return model"
      ]
    },
    {
      "cell_type": "code",
      "execution_count": 29,
      "metadata": {
        "colab": {
          "base_uri": "https://localhost:8080/"
        },
        "id": "LWGauh_Q0Mip",
        "outputId": "5ce06f05-6bcd-495d-f8f3-99bb55e41786"
      },
      "outputs": [
        {
          "output_type": "stream",
          "name": "stdout",
          "text": [
            "Model: \"sequential_2\"\n",
            "_________________________________________________________________\n",
            " Layer (type)                Output Shape              Param #   \n",
            "=================================================================\n",
            " time_distributed (TimeDistr  (None, 16, 3, 3, 1024)   3228864   \n",
            " ibuted)                                                         \n",
            "                                                                 \n",
            " time_distributed_1 (TimeDis  (None, 16, 3, 3, 1024)   4096      \n",
            " tributed)                                                       \n",
            "                                                                 \n",
            " time_distributed_2 (TimeDis  (None, 16, 1, 1, 1024)   0         \n",
            " tributed)                                                       \n",
            "                                                                 \n",
            " time_distributed_3 (TimeDis  (None, 16, 1024)         0         \n",
            " tributed)                                                       \n",
            "                                                                 \n",
            " gru (GRU)                   (None, 128)               443136    \n",
            "                                                                 \n",
            " dropout_4 (Dropout)         (None, 128)               0         \n",
            "                                                                 \n",
            " dense_6 (Dense)             (None, 128)               16512     \n",
            "                                                                 \n",
            " dropout_5 (Dropout)         (None, 128)               0         \n",
            "                                                                 \n",
            " dense_7 (Dense)             (None, 5)                 645       \n",
            "                                                                 \n",
            "=================================================================\n",
            "Total params: 3,693,253\n",
            "Trainable params: 3,669,317\n",
            "Non-trainable params: 23,936\n",
            "_________________________________________________________________\n"
          ]
        }
      ],
      "source": [
        "rnn_cnn_tl2=RNNCNN_TL2()\n",
        "rnn_cnn_tl2.initialize_path(project_folder)\n",
        "rnn_cnn_tl2.initialize_image_properties(image_height=120,image_width=120)\n",
        "rnn_cnn_tl2.initialize_hyperparams(frames_to_sample=16,batch_size=5,num_epochs=20)\n",
        "rnn_cnn_tl2_model=rnn_cnn_tl2.define_model(gru_cells=128,dense_neurons=128,dropout=0.25)\n",
        "rnn_cnn_tl2_model.summary()"
      ]
    },
    {
      "cell_type": "code",
      "execution_count": 30,
      "metadata": {
        "colab": {
          "base_uri": "https://localhost:8080/"
        },
        "id": "hgdxF3El0Mln",
        "outputId": "bfec6360-dc23-4b1e-e88c-e30d9d0cfd56"
      },
      "outputs": [
        {
          "output_type": "stream",
          "name": "stdout",
          "text": [
            "Total Params: 3693253\n",
            "WARNING:tensorflow:`period` argument is deprecated. Please use `save_freq` to specify the frequency in number of batches seen.\n"
          ]
        },
        {
          "output_type": "stream",
          "name": "stderr",
          "text": [
            "/usr/local/lib/python3.7/dist-packages/ipykernel_launcher.py:128: UserWarning: `Model.fit_generator` is deprecated and will be removed in a future version. Please use `Model.fit`, which supports generators.\n"
          ]
        },
        {
          "output_type": "stream",
          "name": "stdout",
          "text": [
            "Epoch 1/20\n",
            "133/133 [==============================] - ETA: 0s - loss: 1.0089 - categorical_accuracy: 0.6169 \n",
            "Epoch 1: saving model to model_init_2022-05-1101_29_06.311960/model-00001-1.00889-0.61689-0.50833-0.78000.h5\n",
            "133/133 [==============================] - 3871s 29s/step - loss: 1.0089 - categorical_accuracy: 0.6169 - val_loss: 0.5083 - val_categorical_accuracy: 0.7800 - lr: 0.0010\n",
            "Epoch 2/20\n",
            "133/133 [==============================] - ETA: 0s - loss: 0.5304 - categorical_accuracy: 0.8152\n",
            "Epoch 2: saving model to model_init_2022-05-1101_29_06.311960/model-00002-0.53043-0.81523-0.55157-0.79000.h5\n",
            "133/133 [==============================] - 247s 2s/step - loss: 0.5304 - categorical_accuracy: 0.8152 - val_loss: 0.5516 - val_categorical_accuracy: 0.7900 - lr: 0.0010\n",
            "Epoch 3/20\n",
            "133/133 [==============================] - ETA: 0s - loss: 0.4785 - categorical_accuracy: 0.8379\n",
            "Epoch 3: saving model to model_init_2022-05-1101_29_06.311960/model-00003-0.47848-0.83786-0.25770-0.92000.h5\n",
            "133/133 [==============================] - 249s 2s/step - loss: 0.4785 - categorical_accuracy: 0.8379 - val_loss: 0.2577 - val_categorical_accuracy: 0.9200 - lr: 0.0010\n",
            "Epoch 4/20\n",
            "133/133 [==============================] - ETA: 0s - loss: 0.2666 - categorical_accuracy: 0.9042\n",
            "Epoch 4: saving model to model_init_2022-05-1101_29_06.311960/model-00004-0.26657-0.90422-0.10840-0.98000.h5\n",
            "133/133 [==============================] - 251s 2s/step - loss: 0.2666 - categorical_accuracy: 0.9042 - val_loss: 0.1084 - val_categorical_accuracy: 0.9800 - lr: 0.0010\n",
            "Epoch 5/20\n",
            "133/133 [==============================] - ETA: 0s - loss: 0.2461 - categorical_accuracy: 0.9125\n",
            "Epoch 5: saving model to model_init_2022-05-1101_29_06.311960/model-00005-0.24608-0.91252-0.29099-0.87000.h5\n",
            "133/133 [==============================] - 246s 2s/step - loss: 0.2461 - categorical_accuracy: 0.9125 - val_loss: 0.2910 - val_categorical_accuracy: 0.8700 - lr: 0.0010\n",
            "Epoch 6/20\n",
            "133/133 [==============================] - ETA: 0s - loss: 0.2455 - categorical_accuracy: 0.9148\n",
            "Epoch 6: saving model to model_init_2022-05-1101_29_06.311960/model-00006-0.24547-0.91478-0.26512-0.90000.h5\n",
            "133/133 [==============================] - 249s 2s/step - loss: 0.2455 - categorical_accuracy: 0.9148 - val_loss: 0.2651 - val_categorical_accuracy: 0.9000 - lr: 0.0010\n",
            "Epoch 7/20\n",
            "133/133 [==============================] - ETA: 0s - loss: 0.2526 - categorical_accuracy: 0.9201\n",
            "Epoch 7: saving model to model_init_2022-05-1101_29_06.311960/model-00007-0.25261-0.92006-0.41689-0.81000.h5\n",
            "133/133 [==============================] - 256s 2s/step - loss: 0.2526 - categorical_accuracy: 0.9201 - val_loss: 0.4169 - val_categorical_accuracy: 0.8100 - lr: 0.0010\n",
            "Epoch 8/20\n",
            "133/133 [==============================] - ETA: 0s - loss: 0.2042 - categorical_accuracy: 0.9336\n",
            "Epoch 8: saving model to model_init_2022-05-1101_29_06.311960/model-00008-0.20422-0.93363-0.15221-0.93000.h5\n",
            "\n",
            "Epoch 8: ReduceLROnPlateau reducing learning rate to 0.00020000000949949026.\n",
            "133/133 [==============================] - 244s 2s/step - loss: 0.2042 - categorical_accuracy: 0.9336 - val_loss: 0.1522 - val_categorical_accuracy: 0.9300 - lr: 0.0010\n",
            "Epoch 9/20\n",
            "133/133 [==============================] - ETA: 0s - loss: 0.0998 - categorical_accuracy: 0.9676\n",
            "Epoch 9: saving model to model_init_2022-05-1101_29_06.311960/model-00009-0.09983-0.96757-0.09163-0.98000.h5\n",
            "133/133 [==============================] - 251s 2s/step - loss: 0.0998 - categorical_accuracy: 0.9676 - val_loss: 0.0916 - val_categorical_accuracy: 0.9800 - lr: 2.0000e-04\n",
            "Epoch 10/20\n",
            "133/133 [==============================] - ETA: 0s - loss: 0.0353 - categorical_accuracy: 0.9917\n",
            "Epoch 10: saving model to model_init_2022-05-1101_29_06.311960/model-00010-0.03529-0.99170-0.06081-0.95000.h5\n",
            "133/133 [==============================] - 236s 2s/step - loss: 0.0353 - categorical_accuracy: 0.9917 - val_loss: 0.0608 - val_categorical_accuracy: 0.9500 - lr: 2.0000e-04\n",
            "Epoch 11/20\n",
            "133/133 [==============================] - ETA: 0s - loss: 0.0435 - categorical_accuracy: 0.9864\n",
            "Epoch 11: saving model to model_init_2022-05-1101_29_06.311960/model-00011-0.04354-0.98643-0.06149-0.99000.h5\n",
            "133/133 [==============================] - 241s 2s/step - loss: 0.0435 - categorical_accuracy: 0.9864 - val_loss: 0.0615 - val_categorical_accuracy: 0.9900 - lr: 2.0000e-04\n",
            "Epoch 12/20\n",
            "133/133 [==============================] - ETA: 0s - loss: 0.0272 - categorical_accuracy: 0.9932\n",
            "Epoch 12: saving model to model_init_2022-05-1101_29_06.311960/model-00012-0.02724-0.99321-0.05855-0.96000.h5\n",
            "133/133 [==============================] - 247s 2s/step - loss: 0.0272 - categorical_accuracy: 0.9932 - val_loss: 0.0585 - val_categorical_accuracy: 0.9600 - lr: 2.0000e-04\n",
            "Epoch 13/20\n",
            "133/133 [==============================] - ETA: 0s - loss: 0.0229 - categorical_accuracy: 0.9925\n",
            "Epoch 13: saving model to model_init_2022-05-1101_29_06.311960/model-00013-0.02286-0.99246-0.05472-0.98000.h5\n",
            "133/133 [==============================] - 255s 2s/step - loss: 0.0229 - categorical_accuracy: 0.9925 - val_loss: 0.0547 - val_categorical_accuracy: 0.9800 - lr: 2.0000e-04\n",
            "Epoch 14/20\n",
            "133/133 [==============================] - ETA: 0s - loss: 0.0250 - categorical_accuracy: 0.9894\n",
            "Epoch 14: saving model to model_init_2022-05-1101_29_06.311960/model-00014-0.02500-0.98944-0.07090-0.97000.h5\n",
            "133/133 [==============================] - 255s 2s/step - loss: 0.0250 - categorical_accuracy: 0.9894 - val_loss: 0.0709 - val_categorical_accuracy: 0.9700 - lr: 2.0000e-04\n",
            "Epoch 15/20\n",
            "133/133 [==============================] - ETA: 0s - loss: 0.0219 - categorical_accuracy: 0.9940\n",
            "Epoch 15: saving model to model_init_2022-05-1101_29_06.311960/model-00015-0.02192-0.99397-0.04243-0.99000.h5\n",
            "133/133 [==============================] - 250s 2s/step - loss: 0.0219 - categorical_accuracy: 0.9940 - val_loss: 0.0424 - val_categorical_accuracy: 0.9900 - lr: 2.0000e-04\n",
            "Epoch 16/20\n",
            "133/133 [==============================] - ETA: 0s - loss: 0.0118 - categorical_accuracy: 0.9992\n",
            "Epoch 16: saving model to model_init_2022-05-1101_29_06.311960/model-00016-0.01176-0.99925-0.04870-0.97000.h5\n",
            "133/133 [==============================] - 251s 2s/step - loss: 0.0118 - categorical_accuracy: 0.9992 - val_loss: 0.0487 - val_categorical_accuracy: 0.9700 - lr: 2.0000e-04\n",
            "Epoch 17/20\n",
            "133/133 [==============================] - ETA: 0s - loss: 0.0098 - categorical_accuracy: 0.9985\n",
            "Epoch 17: saving model to model_init_2022-05-1101_29_06.311960/model-00017-0.00981-0.99849-0.06289-0.96000.h5\n",
            "133/133 [==============================] - 251s 2s/step - loss: 0.0098 - categorical_accuracy: 0.9985 - val_loss: 0.0629 - val_categorical_accuracy: 0.9600 - lr: 2.0000e-04\n",
            "Epoch 18/20\n",
            "133/133 [==============================] - ETA: 0s - loss: 0.0073 - categorical_accuracy: 0.9977\n",
            "Epoch 18: saving model to model_init_2022-05-1101_29_06.311960/model-00018-0.00727-0.99774-0.02753-0.99000.h5\n",
            "133/133 [==============================] - 248s 2s/step - loss: 0.0073 - categorical_accuracy: 0.9977 - val_loss: 0.0275 - val_categorical_accuracy: 0.9900 - lr: 2.0000e-04\n",
            "Epoch 19/20\n",
            "133/133 [==============================] - ETA: 0s - loss: 0.0200 - categorical_accuracy: 0.9925\n",
            "Epoch 19: saving model to model_init_2022-05-1101_29_06.311960/model-00019-0.01999-0.99246-0.04930-0.97000.h5\n",
            "133/133 [==============================] - 243s 2s/step - loss: 0.0200 - categorical_accuracy: 0.9925 - val_loss: 0.0493 - val_categorical_accuracy: 0.9700 - lr: 2.0000e-04\n",
            "Epoch 20/20\n",
            "133/133 [==============================] - ETA: 0s - loss: 0.0160 - categorical_accuracy: 0.9947\n",
            "Epoch 20: saving model to model_init_2022-05-1101_29_06.311960/model-00020-0.01600-0.99472-0.02774-0.99000.h5\n",
            "133/133 [==============================] - 257s 2s/step - loss: 0.0160 - categorical_accuracy: 0.9947 - val_loss: 0.0277 - val_categorical_accuracy: 0.9900 - lr: 2.0000e-04\n"
          ]
        }
      ],
      "source": [
        "print(\"Total Params:\", rnn_cnn_tl2_model.count_params())\n",
        "history_model17=rnn_cnn_tl2.train_model(rnn_cnn_tl2_model,augment_data=True)"
      ]
    },
    {
      "cell_type": "code",
      "execution_count": 31,
      "metadata": {
        "colab": {
          "base_uri": "https://localhost:8080/",
          "height": 265
        },
        "id": "xaJwehyY0Moa",
        "outputId": "1cd26b93-6602-47ef-dbef-7e86ab9917da"
      },
      "outputs": [
        {
          "output_type": "display_data",
          "data": {
            "text/plain": [
              "<Figure size 1080x288 with 2 Axes>"
            ],
            "image/png": "[encoded data removed]"
          },
          "metadata": {
            "needs_background": "light"
          }
        }
      ],
      "source": [
        "plot(history_model17)"
      ]
    },
    {
      "cell_type": "code",
      "execution_count": null,
      "metadata": {
        "id": "0OepJzaJ0Mrb"
      },
      "outputs": [],
      "source": [
        ""
      ]
    },
    {
      "cell_type": "code",
      "execution_count": null,
      "metadata": {
        "id": "kOPFosGq0MuW"
      },
      "outputs": [],
      "source": [
        ""
      ]
    },
    {
      "cell_type": "markdown",
      "metadata": {
        "id": "omICfnjEgjWO"
      },
      "source": [
        "# **Load .h5 Model and Testing**"
      ]
    },
    {
      "cell_type": "code",
      "execution_count": null,
      "metadata": {
        "id": "7NfvXHPK0MxH"
      },
      "outputs": [],
      "source": [
        "import time\n",
        "from keras.models import load_model\n",
        "model = load_model('model_init_2022-05-1005_57_19.015476/model-00024-0.60877-0.77300-0.49415-0.81000.h5')"
      ]
    },
    {
      "cell_type": "code",
      "execution_count": null,
      "metadata": {
        "id": "gZAPuWjE0M0S"
      },
      "outputs": [],
      "source": [
        "test_generator=ModelConv3D14()\n",
        "test_generator.initialize_path(project_folder)\n",
        "test_generator.initialize_image_properties(image_height=120,image_width=120)\n",
        "test_generator.initialize_hyperparams(frames_to_sample=16,batch_size=20,num_epochs=20)\n",
        "g=test_generator.generator(test_generator.val_path,test_generator.val_doc,augment=True)\n",
        "batch_data, batch_labels=next(g)"
      ]
    },
    {
      "cell_type": "code",
      "execution_count": null,
      "metadata": {
        "colab": {
          "base_uri": "https://localhost:8080/"
        },
        "id": "_GuKqKhE0M3F",
        "outputId": "e525f9c9-954a-4871-9833-5df1fecc178e"
      },
      "outputs": [
        {
          "data": {
            "text/plain": [
              "array([[1., 0., 0., 0., 0.],\n",
              "       [0., 1., 0., 0., 0.],\n",
              "       [0., 0., 0., 1., 0.],\n",
              "       [0., 1., 0., 0., 0.],\n",
              "       [0., 1., 0., 0., 0.],\n",
              "       [0., 0., 1., 0., 0.],\n",
              "       [0., 0., 0., 0., 1.],\n",
              "       [0., 0., 1., 0., 0.],\n",
              "       [0., 0., 1., 0., 0.],\n",
              "       [0., 0., 0., 1., 0.],\n",
              "       [0., 0., 1., 0., 0.],\n",
              "       [0., 1., 0., 0., 0.],\n",
              "       [0., 1., 0., 0., 0.],\n",
              "       [1., 0., 0., 0., 0.],\n",
              "       [0., 0., 0., 1., 0.],\n",
              "       [0., 0., 0., 0., 1.],\n",
              "       [0., 0., 0., 1., 0.],\n",
              "       [0., 1., 0., 0., 0.],\n",
              "       [0., 1., 0., 0., 0.],\n",
              "       [1., 0., 0., 0., 0.],\n",
              "       [1., 0., 0., 0., 0.],\n",
              "       [0., 1., 0., 0., 0.],\n",
              "       [0., 0., 0., 1., 0.],\n",
              "       [0., 1., 0., 0., 0.],\n",
              "       [0., 1., 0., 0., 0.],\n",
              "       [0., 0., 1., 0., 0.],\n",
              "       [0., 0., 0., 0., 1.],\n",
              "       [0., 0., 1., 0., 0.],\n",
              "       [0., 0., 1., 0., 0.],\n",
              "       [0., 0., 0., 1., 0.],\n",
              "       [0., 0., 1., 0., 0.],\n",
              "       [0., 1., 0., 0., 0.],\n",
              "       [0., 1., 0., 0., 0.],\n",
              "       [1., 0., 0., 0., 0.],\n",
              "       [0., 0., 0., 1., 0.],\n",
              "       [0., 0., 0., 0., 1.],\n",
              "       [0., 0., 0., 1., 0.],\n",
              "       [0., 1., 0., 0., 0.],\n",
              "       [0., 1., 0., 0., 0.],\n",
              "       [1., 0., 0., 0., 0.]])"
            ]
          },
          "execution_count": 30,
          "metadata": {},
          "output_type": "execute_result"
        }
      ],
      "source": [
        "batch_labels"
      ]
    },
    {
      "cell_type": "code",
      "execution_count": null,
      "metadata": {
        "colab": {
          "base_uri": "https://localhost:8080/"
        },
        "id": "m92Uj1uP0M6p",
        "outputId": "4f987874-5c7c-4d10-8f94-1827fbb45419"
      },
      "outputs": [
        {
          "name": "stdout",
          "output_type": "stream",
          "text": [
            "[0 0 3 1 1 3 4 4 4 3 2 3 1 0 3 4 3 1 1 0 0 0 3 1 1 3 4 4 4 3 2 1 1 3 3 4 3\n",
            " 1 1 2]\n"
          ]
        }
      ],
      "source": [
        "print(np.argmax(model.predict(batch_data[:,:,:,:,:]),axis=1))"
      ]
    },
    {
      "cell_type": "code",
      "execution_count": null,
      "metadata": {
        "id": "TsW_TeTq0M9Y"
      },
      "outputs": [],
      "source": [
        "\n",
        "# Python program to demonstrate\n",
        "# HDF5 file\n",
        " \n",
        "import numpy as np\n",
        "import h5py\n",
        " \n",
        "# creating a file\n",
        "with h5py.File('model_init_2022-05-1005_57_19.015476/model-00024-0.60877-0.77300-0.49415-0.81000.h5', 'w') as f:\n",
        "    dset = f.create_dataset(\"default\", data = batch_data)"
      ]
    },
    {
      "cell_type": "code",
      "execution_count": null,
      "metadata": {
        "id": "AIL7NLLq0NAe"
      },
      "outputs": [],
      "source": [
        "h5Path=\"/content/gdrive/MyDrive/Project_data/default.hdf5\""
      ]
    },
    {
      "cell_type": "code",
      "execution_count": null,
      "metadata": {
        "id": "v52LLedX0NDW"
      },
      "outputs": [],
      "source": [
        ""
      ]
    },
    {
      "cell_type": "code",
      "execution_count": null,
      "metadata": {
        "id": "4Wu6yLLw0NGj"
      },
      "outputs": [],
      "source": [
        ""
      ]
    },
    {
      "cell_type": "code",
      "execution_count": null,
      "metadata": {
        "id": "yQKWdgNE0NJc"
      },
      "outputs": [],
      "source": [
        ""
      ]
    },
    {
      "cell_type": "code",
      "execution_count": null,
      "metadata": {
        "id": "fD1WXpb40NMk"
      },
      "outputs": [],
      "source": [
        ""
      ]
    },
    {
      "cell_type": "code",
      "execution_count": null,
      "metadata": {
        "id": "IvsmJxwF0NPn"
      },
      "outputs": [],
      "source": [
        ""
      ]
    },
    {
      "cell_type": "code",
      "execution_count": null,
      "metadata": {
        "id": "Avpv-qZV0NSq"
      },
      "outputs": [],
      "source": [
        ""
      ]
    },
    {
      "cell_type": "code",
      "execution_count": null,
      "metadata": {
        "id": "6JZOCRXi0NVo"
      },
      "outputs": [],
      "source": [
        ""
      ]
    },
    {
      "cell_type": "code",
      "execution_count": null,
      "metadata": {
        "id": "mDUfAKr-0NY1"
      },
      "outputs": [],
      "source": [
        ""
      ]
    },
    {
      "cell_type": "code",
      "execution_count": null,
      "metadata": {
        "id": "_mzfcg7f0Nb1"
      },
      "outputs": [],
      "source": [
        ""
      ]
    },
    {
      "cell_type": "code",
      "execution_count": null,
      "metadata": {
        "id": "jbE85znW0Ne6"
      },
      "outputs": [],
      "source": [
        ""
      ]
    },
    {
      "cell_type": "code",
      "execution_count": null,
      "metadata": {
        "id": "LzhVb8mY0NiC"
      },
      "outputs": [],
      "source": [
        ""
      ]
    },
    {
      "cell_type": "code",
      "execution_count": null,
      "metadata": {
        "id": "uRjQdwhh0NlA"
      },
      "outputs": [],
      "source": [
        ""
      ]
    },
    {
      "cell_type": "code",
      "execution_count": null,
      "metadata": {
        "id": "s1VNP-_70NoT"
      },
      "outputs": [],
      "source": [
        ""
      ]
    },
    {
      "cell_type": "code",
      "execution_count": null,
      "metadata": {
        "id": "UjHSVAM50Nrh"
      },
      "outputs": [],
      "source": [
        ""
      ]
    },
    {
      "cell_type": "code",
      "execution_count": null,
      "metadata": {
        "id": "qaGGwOB00Nuj"
      },
      "outputs": [],
      "source": [
        ""
      ]
    },
    {
      "cell_type": "code",
      "execution_count": null,
      "metadata": {
        "id": "MwOPjnQc0Nxj"
      },
      "outputs": [],
      "source": [
        ""
      ]
    },
    {
      "cell_type": "code",
      "execution_count": null,
      "metadata": {
        "id": "6eMips4Z0N0i"
      },
      "outputs": [],
      "source": [
        ""
      ]
    },
    {
      "cell_type": "code",
      "execution_count": null,
      "metadata": {
        "id": "yL6dA-Je0N3u"
      },
      "outputs": [],
      "source": [
        ""
      ]
    },
    {
      "cell_type": "code",
      "execution_count": null,
      "metadata": {
        "id": "C3eupNhI0N6y"
      },
      "outputs": [],
      "source": [
        ""
      ]
    },
    {
      "cell_type": "code",
      "execution_count": null,
      "metadata": {
        "id": "Riozvhs50N9p"
      },
      "outputs": [],
      "source": [
        ""
      ]
    },
    {
      "cell_type": "code",
      "execution_count": null,
      "metadata": {
        "id": "x6E3TtgC0OAk"
      },
      "outputs": [],
      "source": [
        ""
      ]
    },
    {
      "cell_type": "code",
      "execution_count": null,
      "metadata": {
        "id": "UYLbg-Tc0OD8"
      },
      "outputs": [],
      "source": [
        ""
      ]
    },
    {
      "cell_type": "code",
      "execution_count": null,
      "metadata": {
        "id": "nsa2SuaZ0OHb"
      },
      "outputs": [],
      "source": [
        ""
      ]
    },
    {
      "cell_type": "code",
      "execution_count": null,
      "metadata": {
        "id": "6FknJF5e0OJ7"
      },
      "outputs": [],
      "source": [
        ""
      ]
    },
    {
      "cell_type": "code",
      "execution_count": null,
      "metadata": {
        "id": "nGxm7ZEF0ONS"
      },
      "outputs": [],
      "source": [
        ""
      ]
    },
    {
      "cell_type": "code",
      "execution_count": null,
      "metadata": {
        "id": "Kv8jwREL0OQJ"
      },
      "outputs": [],
      "source": [
        ""
      ]
    },
    {
      "cell_type": "code",
      "execution_count": null,
      "metadata": {
        "id": "q66J_KmM0OTR"
      },
      "outputs": [],
      "source": [
        ""
      ]
    },
    {
      "cell_type": "code",
      "execution_count": null,
      "metadata": {
        "id": "DU8WCoNz0OVp"
      },
      "outputs": [],
      "source": [
        ""
      ]
    },
    {
      "cell_type": "code",
      "execution_count": null,
      "metadata": {
        "id": "WZIXn5no0OZD"
      },
      "outputs": [],
      "source": [
        ""
      ]
    }
  ],
  "metadata": {
    "accelerator": "GPU",
    "colab": {
      "collapsed_sections": [],
      "machine_shape": "hm",
      "name": "Gesture 2 - Hand recognition.ipynb",
      "provenance": []
    },
    "kernelspec": {
      "display_name": "Python 3",
      "name": "python3"
    },
    "language_info": {
      "name": "python"
    }
  },
  "nbformat": 4,
  "nbformat_minor": 0
}